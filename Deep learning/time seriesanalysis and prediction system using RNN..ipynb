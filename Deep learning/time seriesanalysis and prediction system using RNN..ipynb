{
 "cells": [
  {
   "cell_type": "code",
   "execution_count": 1,
   "id": "dd24704e",
   "metadata": {},
   "outputs": [],
   "source": [
    "import numpy as np\n",
    "import pandas as pd\n",
    "import matplotlib.pyplot as plt\n",
    "from sklearn.preprocessing import MinMaxScaler\n",
    "from tensorflow.keras.models import Sequential\n",
    "from tensorflow.keras.layers import LSTM, Dense, Dropout\n",
    "from sklearn.metrics import mean_squared_error"
   ]
  },
  {
   "cell_type": "code",
   "execution_count": 2,
   "id": "08e3de81",
   "metadata": {},
   "outputs": [],
   "source": [
    "data = pd.read_csv('GOOGL.csv')"
   ]
  },
  {
   "cell_type": "code",
   "execution_count": 3,
   "id": "c2cd6b51",
   "metadata": {},
   "outputs": [],
   "source": [
    "data_copy = data.copy()\n",
    "\n",
    "data_copy.dropna(inplace=True)\n",
    "\n",
    "selected_features = ['Open', 'High', 'Low', 'Close', 'Adj Close', 'Volume']\n",
    "data_copy = data_copy[selected_features]\n",
    "\n",
    "scaler = MinMaxScaler()\n",
    "scaled_data = scaler.fit_transform(data_copy)"
   ]
  },
  {
   "cell_type": "code",
   "execution_count": 4,
   "id": "02c8f29e",
   "metadata": {},
   "outputs": [
    {
     "data": {
      "text/html": [
       "<div>\n",
       "<style scoped>\n",
       "    .dataframe tbody tr th:only-of-type {\n",
       "        vertical-align: middle;\n",
       "    }\n",
       "\n",
       "    .dataframe tbody tr th {\n",
       "        vertical-align: top;\n",
       "    }\n",
       "\n",
       "    .dataframe thead th {\n",
       "        text-align: right;\n",
       "    }\n",
       "</style>\n",
       "<table border=\"1\" class=\"dataframe\">\n",
       "  <thead>\n",
       "    <tr style=\"text-align: right;\">\n",
       "      <th></th>\n",
       "      <th>Date</th>\n",
       "      <th>Open</th>\n",
       "      <th>High</th>\n",
       "      <th>Low</th>\n",
       "      <th>Close</th>\n",
       "      <th>Adj Close</th>\n",
       "      <th>Volume</th>\n",
       "    </tr>\n",
       "  </thead>\n",
       "  <tbody>\n",
       "    <tr>\n",
       "      <th>0</th>\n",
       "      <td>2004-08-19</td>\n",
       "      <td>50.050049</td>\n",
       "      <td>52.082081</td>\n",
       "      <td>48.028027</td>\n",
       "      <td>50.220219</td>\n",
       "      <td>50.220219</td>\n",
       "      <td>44659096</td>\n",
       "    </tr>\n",
       "    <tr>\n",
       "      <th>1</th>\n",
       "      <td>2004-08-20</td>\n",
       "      <td>50.555557</td>\n",
       "      <td>54.594597</td>\n",
       "      <td>50.300301</td>\n",
       "      <td>54.209209</td>\n",
       "      <td>54.209209</td>\n",
       "      <td>22834343</td>\n",
       "    </tr>\n",
       "    <tr>\n",
       "      <th>2</th>\n",
       "      <td>2004-08-23</td>\n",
       "      <td>55.430431</td>\n",
       "      <td>56.796799</td>\n",
       "      <td>54.579578</td>\n",
       "      <td>54.754753</td>\n",
       "      <td>54.754753</td>\n",
       "      <td>18256126</td>\n",
       "    </tr>\n",
       "    <tr>\n",
       "      <th>3</th>\n",
       "      <td>2004-08-24</td>\n",
       "      <td>55.675674</td>\n",
       "      <td>55.855858</td>\n",
       "      <td>51.836838</td>\n",
       "      <td>52.487488</td>\n",
       "      <td>52.487488</td>\n",
       "      <td>15247337</td>\n",
       "    </tr>\n",
       "    <tr>\n",
       "      <th>4</th>\n",
       "      <td>2004-08-25</td>\n",
       "      <td>52.532532</td>\n",
       "      <td>54.054054</td>\n",
       "      <td>51.991993</td>\n",
       "      <td>53.053055</td>\n",
       "      <td>53.053055</td>\n",
       "      <td>9188602</td>\n",
       "    </tr>\n",
       "  </tbody>\n",
       "</table>\n",
       "</div>"
      ],
      "text/plain": [
       "         Date       Open       High        Low      Close  Adj Close    Volume\n",
       "0  2004-08-19  50.050049  52.082081  48.028027  50.220219  50.220219  44659096\n",
       "1  2004-08-20  50.555557  54.594597  50.300301  54.209209  54.209209  22834343\n",
       "2  2004-08-23  55.430431  56.796799  54.579578  54.754753  54.754753  18256126\n",
       "3  2004-08-24  55.675674  55.855858  51.836838  52.487488  52.487488  15247337\n",
       "4  2004-08-25  52.532532  54.054054  51.991993  53.053055  53.053055   9188602"
      ]
     },
     "execution_count": 4,
     "metadata": {},
     "output_type": "execute_result"
    }
   ],
   "source": [
    "df = pd.DataFrame(data)\n",
    "df.head()"
   ]
  },
  {
   "cell_type": "code",
   "execution_count": 24,
   "id": "26da61bd",
   "metadata": {},
   "outputs": [
    {
     "data": {
      "text/plain": [
       "Date         2018-07-10 00:00:00+00:00\n",
       "Open                        1169.98999\n",
       "High                            1173.5\n",
       "Low                        1162.560059\n",
       "Close                      1167.140015\n",
       "Adj Close                  1167.140015\n",
       "Volume                         1066700\n",
       "Name: 3496, dtype: object"
      ]
     },
     "execution_count": 24,
     "metadata": {},
     "output_type": "execute_result"
    }
   ],
   "source": [
    "df.iloc[3496]\n"
   ]
  },
  {
   "cell_type": "code",
   "execution_count": 19,
   "id": "ae91fa6d",
   "metadata": {},
   "outputs": [
    {
     "data": {
      "text/plain": [
       "(4431, 7)"
      ]
     },
     "execution_count": 19,
     "metadata": {},
     "output_type": "execute_result"
    }
   ],
   "source": []
  },
  {
   "cell_type": "code",
   "execution_count": 5,
   "id": "af999a1f",
   "metadata": {},
   "outputs": [
    {
     "name": "stdout",
     "output_type": "stream",
     "text": [
      "Missing Values:\n",
      " Date         0\n",
      "Open         0\n",
      "High         0\n",
      "Low          0\n",
      "Close        0\n",
      "Adj Close    0\n",
      "Volume       0\n",
      "dtype: int64\n"
     ]
    }
   ],
   "source": [
    "missing_values = df.isnull().sum()\n",
    "print(\"Missing Values:\\n\", missing_values)"
   ]
  },
  {
   "cell_type": "code",
   "execution_count": 6,
   "id": "fb57ce6e",
   "metadata": {},
   "outputs": [
    {
     "name": "stdout",
     "output_type": "stream",
     "text": [
      "Dataset shape: (4431, 7)\n",
      "Columns: Index(['Date', 'Open', 'High', 'Low', 'Close', 'Adj Close', 'Volume'], dtype='object')\n",
      "<class 'pandas.core.frame.DataFrame'>\n",
      "RangeIndex: 4431 entries, 0 to 4430\n",
      "Data columns (total 7 columns):\n",
      " #   Column     Non-Null Count  Dtype  \n",
      "---  ------     --------------  -----  \n",
      " 0   Date       4431 non-null   object \n",
      " 1   Open       4431 non-null   float64\n",
      " 2   High       4431 non-null   float64\n",
      " 3   Low        4431 non-null   float64\n",
      " 4   Close      4431 non-null   float64\n",
      " 5   Adj Close  4431 non-null   float64\n",
      " 6   Volume     4431 non-null   int64  \n",
      "dtypes: float64(5), int64(1), object(1)\n",
      "memory usage: 242.4+ KB\n",
      "Info:\n",
      " None\n",
      "Summary statistics:\n",
      "               Open         High          Low        Close    Adj Close   \n",
      "count  4431.000000  4431.000000  4431.000000  4431.000000  4431.000000  \\\n",
      "mean    693.087345   699.735595   686.078751   693.097367   693.097367   \n",
      "std     645.118799   651.331215   638.579488   645.187806   645.187806   \n",
      "min      49.644646    50.920921    48.028027    50.055054    50.055054   \n",
      "25%     248.558563   250.853355   245.813309   248.415916   248.415916   \n",
      "50%     434.924927   437.887878   432.687683   435.330322   435.330322   \n",
      "75%    1007.364990  1020.649994   997.274994  1007.790008  1007.790008   \n",
      "max    3025.000000  3030.929932  2977.979980  2996.770020  2996.770020   \n",
      "\n",
      "             Volume  \n",
      "count  4.431000e+03  \n",
      "mean   6.444992e+06  \n",
      "std    7.690351e+06  \n",
      "min    4.656000e+05  \n",
      "25%    1.695600e+06  \n",
      "50%    3.778418e+06  \n",
      "75%    8.002390e+06  \n",
      "max    8.215117e+07  \n"
     ]
    }
   ],
   "source": [
    "print(\"Dataset shape:\", df.shape)\n",
    "print(\"Columns:\", df.columns)\n",
    "print(\"Info:\\n\", df.info())\n",
    "print(\"Summary statistics:\\n\", df.describe())"
   ]
  },
  {
   "cell_type": "code",
   "execution_count": 8,
   "id": "457f1bb8",
   "metadata": {},
   "outputs": [
    {
     "data": {
      "text/html": [
       "<div>\n",
       "<style scoped>\n",
       "    .dataframe tbody tr th:only-of-type {\n",
       "        vertical-align: middle;\n",
       "    }\n",
       "\n",
       "    .dataframe tbody tr th {\n",
       "        vertical-align: top;\n",
       "    }\n",
       "\n",
       "    .dataframe thead th {\n",
       "        text-align: right;\n",
       "    }\n",
       "</style>\n",
       "<table border=\"1\" class=\"dataframe\">\n",
       "  <thead>\n",
       "    <tr style=\"text-align: right;\">\n",
       "      <th></th>\n",
       "      <th>Date</th>\n",
       "      <th>Open</th>\n",
       "      <th>High</th>\n",
       "      <th>Low</th>\n",
       "      <th>Close</th>\n",
       "      <th>Adj Close</th>\n",
       "      <th>Volume</th>\n",
       "    </tr>\n",
       "  </thead>\n",
       "  <tbody>\n",
       "    <tr>\n",
       "      <th>0</th>\n",
       "      <td>2004-08-19 00:00:00+00:00</td>\n",
       "      <td>50.050049</td>\n",
       "      <td>52.082081</td>\n",
       "      <td>48.028027</td>\n",
       "      <td>50.220219</td>\n",
       "      <td>50.220219</td>\n",
       "      <td>44659096</td>\n",
       "    </tr>\n",
       "    <tr>\n",
       "      <th>1</th>\n",
       "      <td>2004-08-20 00:00:00+00:00</td>\n",
       "      <td>50.555557</td>\n",
       "      <td>54.594597</td>\n",
       "      <td>50.300301</td>\n",
       "      <td>54.209209</td>\n",
       "      <td>54.209209</td>\n",
       "      <td>22834343</td>\n",
       "    </tr>\n",
       "    <tr>\n",
       "      <th>2</th>\n",
       "      <td>2004-08-23 00:00:00+00:00</td>\n",
       "      <td>55.430431</td>\n",
       "      <td>56.796799</td>\n",
       "      <td>54.579578</td>\n",
       "      <td>54.754753</td>\n",
       "      <td>54.754753</td>\n",
       "      <td>18256126</td>\n",
       "    </tr>\n",
       "    <tr>\n",
       "      <th>3</th>\n",
       "      <td>2004-08-24 00:00:00+00:00</td>\n",
       "      <td>55.675674</td>\n",
       "      <td>55.855858</td>\n",
       "      <td>51.836838</td>\n",
       "      <td>52.487488</td>\n",
       "      <td>52.487488</td>\n",
       "      <td>15247337</td>\n",
       "    </tr>\n",
       "    <tr>\n",
       "      <th>4</th>\n",
       "      <td>2004-08-25 00:00:00+00:00</td>\n",
       "      <td>52.532532</td>\n",
       "      <td>54.054054</td>\n",
       "      <td>51.991993</td>\n",
       "      <td>53.053055</td>\n",
       "      <td>53.053055</td>\n",
       "      <td>9188602</td>\n",
       "    </tr>\n",
       "  </tbody>\n",
       "</table>\n",
       "</div>"
      ],
      "text/plain": [
       "                       Date       Open       High        Low      Close   \n",
       "0 2004-08-19 00:00:00+00:00  50.050049  52.082081  48.028027  50.220219  \\\n",
       "1 2004-08-20 00:00:00+00:00  50.555557  54.594597  50.300301  54.209209   \n",
       "2 2004-08-23 00:00:00+00:00  55.430431  56.796799  54.579578  54.754753   \n",
       "3 2004-08-24 00:00:00+00:00  55.675674  55.855858  51.836838  52.487488   \n",
       "4 2004-08-25 00:00:00+00:00  52.532532  54.054054  51.991993  53.053055   \n",
       "\n",
       "   Adj Close    Volume  \n",
       "0  50.220219  44659096  \n",
       "1  54.209209  22834343  \n",
       "2  54.754753  18256126  \n",
       "3  52.487488  15247337  \n",
       "4  53.053055   9188602  "
      ]
     },
     "execution_count": 8,
     "metadata": {},
     "output_type": "execute_result"
    }
   ],
   "source": [
    "df['Date'] = pd.to_datetime(df['Date'], utc=True)\n",
    "df.head()"
   ]
  },
  {
   "cell_type": "code",
   "execution_count": 20,
   "id": "20a98afa",
   "metadata": {},
   "outputs": [
    {
     "data": {
      "text/plain": [
       "(4431, 7)"
      ]
     },
     "execution_count": 20,
     "metadata": {},
     "output_type": "execute_result"
    }
   ],
   "source": [
    "df.shape"
   ]
  },
  {
   "cell_type": "code",
   "execution_count": 9,
   "id": "b0494166",
   "metadata": {},
   "outputs": [],
   "source": [
    "def prepare_data(data, time_steps):\n",
    "    X, y = [], []\n",
    "    for i in range(len(data) - time_steps):\n",
    "        X.append(data[i:(i + time_steps)])\n",
    "        y.append(data[i + time_steps])\n",
    "    return np.array(X), np.array(y)\n",
    "\n",
    "time_steps = 60  \n",
    "\n",
    "X, y = prepare_data(scaled_data, time_steps)"
   ]
  },
  {
   "cell_type": "code",
   "execution_count": 22,
   "id": "7fbfeb7f",
   "metadata": {},
   "outputs": [
    {
     "data": {
      "text/plain": [
       "4371"
      ]
     },
     "execution_count": 22,
     "metadata": {},
     "output_type": "execute_result"
    }
   ],
   "source": [
    "len(y)"
   ]
  },
  {
   "cell_type": "code",
   "execution_count": 10,
   "id": "2a394cff",
   "metadata": {},
   "outputs": [],
   "source": [
    "split_ratio = 0.8  # Train-test split ratio\n",
    "split_index = int(split_ratio * len(X))\n",
    "X_train, X_test = X[:split_index], X[split_index:]\n",
    "y_train, y_test = y[:split_index], y[split_index:]"
   ]
  },
  {
   "cell_type": "code",
   "execution_count": 38,
   "id": "136f01db",
   "metadata": {},
   "outputs": [
    {
     "data": {
      "text/plain": [
       "Date         2018-07-10 00:00:00+00:00\n",
       "Open                        1169.98999\n",
       "High                            1173.5\n",
       "Low                        1162.560059\n",
       "Close                      1167.140015\n",
       "Adj Close                  1167.140015\n",
       "Volume                         1066700\n",
       "Name: 3496, dtype: object"
      ]
     },
     "execution_count": 38,
     "metadata": {},
     "output_type": "execute_result"
    }
   ],
   "source": [
    "df.iloc[3496]"
   ]
  },
  {
   "cell_type": "code",
   "execution_count": 11,
   "id": "a8b55d8f",
   "metadata": {},
   "outputs": [
    {
     "name": "stdout",
     "output_type": "stream",
     "text": [
      "Model: \"sequential\"\n",
      "_________________________________________________________________\n",
      " Layer (type)                Output Shape              Param #   \n",
      "=================================================================\n",
      " lstm (LSTM)                 (None, 60, 100)           42800     \n",
      "                                                                 \n",
      " dropout (Dropout)           (None, 60, 100)           0         \n",
      "                                                                 \n",
      " lstm_1 (LSTM)               (None, 60, 100)           80400     \n",
      "                                                                 \n",
      " dropout_1 (Dropout)         (None, 60, 100)           0         \n",
      "                                                                 \n",
      " lstm_2 (LSTM)               (None, 100)               80400     \n",
      "                                                                 \n",
      " dropout_2 (Dropout)         (None, 100)               0         \n",
      "                                                                 \n",
      " dense (Dense)               (None, 6)                 606       \n",
      "                                                                 \n",
      "=================================================================\n",
      "Total params: 204206 (797.68 KB)\n",
      "Trainable params: 204206 (797.68 KB)\n",
      "Non-trainable params: 0 (0.00 Byte)\n",
      "_________________________________________________________________\n",
      "None\n"
     ]
    }
   ],
   "source": [
    "model = Sequential([\n",
    "    LSTM(units=100, return_sequences=True, input_shape=(X_train.shape[1], X_train.shape[2])),\n",
    "    Dropout(0.2),\n",
    "    LSTM(units=100, return_sequences=True),\n",
    "    Dropout(0.2),\n",
    "    LSTM(units=100),\n",
    "    Dropout(0.2),\n",
    "    Dense(units=len(selected_features))\n",
    "])\n",
    "\n",
    "# Compile model\n",
    "model.compile(optimizer='adam', loss='mean_squared_error',metrics=['accuracy'])\n",
    "\n",
    "# Display model\n",
    "print(model.summary())"
   ]
  },
  {
   "cell_type": "code",
   "execution_count": 12,
   "id": "34c22e5c",
   "metadata": {},
   "outputs": [
    {
     "name": "stdout",
     "output_type": "stream",
     "text": [
      "Epoch 1/20\n",
      "110/110 [==============================] - 46s 263ms/step - loss: 0.0018 - accuracy: 0.4514\n",
      "Epoch 2/20\n",
      "110/110 [==============================] - 24s 216ms/step - loss: 9.9530e-04 - accuracy: 0.4477\n",
      "Epoch 3/20\n",
      "110/110 [==============================] - 26s 236ms/step - loss: 8.9745e-04 - accuracy: 0.4582\n",
      "Epoch 4/20\n",
      "110/110 [==============================] - 25s 232ms/step - loss: 8.4214e-04 - accuracy: 0.4577\n",
      "Epoch 5/20\n",
      "110/110 [==============================] - 23s 212ms/step - loss: 8.0182e-04 - accuracy: 0.4611\n",
      "Epoch 6/20\n",
      "110/110 [==============================] - 24s 222ms/step - loss: 7.7666e-04 - accuracy: 0.4780\n",
      "Epoch 7/20\n",
      "110/110 [==============================] - 23s 208ms/step - loss: 7.3937e-04 - accuracy: 0.4720\n",
      "Epoch 8/20\n",
      "110/110 [==============================] - 24s 218ms/step - loss: 7.5578e-04 - accuracy: 0.4700\n",
      "Epoch 9/20\n",
      "110/110 [==============================] - 25s 228ms/step - loss: 7.3550e-04 - accuracy: 0.4765\n",
      "Epoch 10/20\n",
      "110/110 [==============================] - 24s 220ms/step - loss: 6.8462e-04 - accuracy: 0.4665\n",
      "Epoch 11/20\n",
      "110/110 [==============================] - 25s 226ms/step - loss: 6.8814e-04 - accuracy: 0.4717\n",
      "Epoch 12/20\n",
      "110/110 [==============================] - 25s 224ms/step - loss: 6.7883e-04 - accuracy: 0.4820\n",
      "Epoch 13/20\n",
      "110/110 [==============================] - 25s 230ms/step - loss: 6.7557e-04 - accuracy: 0.4820\n",
      "Epoch 14/20\n",
      "110/110 [==============================] - 26s 235ms/step - loss: 6.5894e-04 - accuracy: 0.4731\n",
      "Epoch 15/20\n",
      "110/110 [==============================] - 26s 238ms/step - loss: 6.3421e-04 - accuracy: 0.4720\n",
      "Epoch 16/20\n",
      "110/110 [==============================] - 25s 226ms/step - loss: 6.5368e-04 - accuracy: 0.4783\n",
      "Epoch 17/20\n",
      "110/110 [==============================] - 25s 226ms/step - loss: 6.3102e-04 - accuracy: 0.4711\n",
      "Epoch 18/20\n",
      "110/110 [==============================] - 27s 245ms/step - loss: 6.1509e-04 - accuracy: 0.4834\n",
      "Epoch 19/20\n",
      "110/110 [==============================] - 26s 240ms/step - loss: 6.2474e-04 - accuracy: 0.4834\n",
      "Epoch 20/20\n",
      "110/110 [==============================] - 24s 219ms/step - loss: 5.8182e-04 - accuracy: 0.4748\n"
     ]
    }
   ],
   "source": [
    "epochs = 20 \n",
    "\n",
    "history = model.fit(X_train, y_train, epochs=epochs, batch_size=32, verbose=1)"
   ]
  },
  {
   "cell_type": "code",
   "execution_count": 13,
   "id": "d0920878",
   "metadata": {},
   "outputs": [
    {
     "data": {
      "image/png": "[encoded data removed]",
      "text/plain": [
       "<Figure size 640x480 with 1 Axes>"
      ]
     },
     "metadata": {},
     "output_type": "display_data"
    },
    {
     "data": {
      "text/plain": [
       "<Figure size 640x480 with 0 Axes>"
      ]
     },
     "metadata": {},
     "output_type": "display_data"
    },
    {
     "name": "stdout",
     "output_type": "stream",
     "text": [
      "Train Loss: [0.0004765246412716806, 0.584382176399231]\n",
      "Test Loss: [0.0012832677457481623, 0.2297142893075943]\n"
     ]
    }
   ],
   "source": [
    "loss = history.history['loss']\n",
    "\n",
    "epochs = range(len(loss))\n",
    "\n",
    "plt.plot(epochs, loss, 'r', label='Training loss')\n",
    "\n",
    "plt.title('Training loss', size=15, weight='bold')\n",
    "plt.legend(loc=0)\n",
    "plt.figure()\n",
    "\n",
    "plt.show()\n",
    "\n",
    "train_loss = model.evaluate(X_train, y_train, verbose=0)\n",
    "test_loss = model.evaluate(X_test, y_test, verbose=0)\n",
    "\n",
    "print(f\"Train Loss: {train_loss}\")\n",
    "print(f\"Test Loss: {test_loss}\")"
   ]
  },
  {
   "cell_type": "code",
   "execution_count": 40,
   "id": "287a0f6e",
   "metadata": {},
   "outputs": [
    {
     "data": {
      "text/plain": [
       "Date         2018-07-10 00:00:00+00:00\n",
       "Open                        1169.98999\n",
       "High                            1173.5\n",
       "Low                        1162.560059\n",
       "Close                      1167.140015\n",
       "Adj Close                  1167.140015\n",
       "Volume                         1066700\n",
       "Name: 3496, dtype: object"
      ]
     },
     "execution_count": 40,
     "metadata": {},
     "output_type": "execute_result"
    }
   ],
   "source": [
    "split_index=3496\n",
    "df.iloc[3496]"
   ]
  },
  {
   "cell_type": "code",
   "execution_count": 42,
   "id": "930eb999",
   "metadata": {},
   "outputs": [
    {
     "name": "stdout",
     "output_type": "stream",
     "text": [
      "28/28 [==============================] - 2s 74ms/step\n"
     ]
    },
    {
     "data": {
      "image/png": "[encoded data removed]",
      "text/plain": [
       "<Figure size 1000x600 with 1 Axes>"
      ]
     },
     "metadata": {},
     "output_type": "display_data"
    }
   ],
   "source": [
    "predictions = model.predict(X_test)\n",
    "predictions = scaler.inverse_transform(predictions)\n",
    "y_test_inverse = scaler.inverse_transform(y_test)\n",
    "\n",
    "plt.figure(figsize=(10, 6))\n",
    "plt.plot(predictions[:,4], label='Predicted Close Price', color='r')\n",
    "plt.plot(y_test_inverse[:,4], label='Actual Close Price', color='b')\n",
    "plt.title('Google Stock Price Prediction 2018 to 2022')\n",
    "plt.xlabel('Time')\n",
    "plt.ylabel('Price')\n",
    "plt.legend()\n",
    "plt.show()"
   ]
  },
  {
   "cell_type": "code",
   "execution_count": 41,
   "id": "bd50ce16",
   "metadata": {},
   "outputs": [
    {
     "name": "stdout",
     "output_type": "stream",
     "text": [
      "Mean Absolute Error (MAE): 72.4437768478884\n"
     ]
    }
   ],
   "source": [
    "from sklearn.metrics import mean_absolute_error, mean_squared_error\n",
    "import numpy as np\n",
    "\n",
    "# Assuming predictions and y_test_inverse contain the predicted and actual stock prices, respectively\n",
    "\n",
    "# Calculate Mean Absolute Error (MAE)\n",
    "mae = mean_absolute_error(y_test_inverse[:,4],predictions[:,4])\n",
    "\n",
    "print(f'Mean Absolute Error (MAE): {mae}')\n",
    "\n"
   ]
  },
  {
   "cell_type": "code",
   "execution_count": null,
   "id": "c22d7f5f",
   "metadata": {},
   "outputs": [],
   "source": []
  }
 ],
 "metadata": {
  "kernelspec": {
   "display_name": "Python 3 (ipykernel)",
   "language": "python",
   "name": "python3"
  },
  "language_info": {
   "codemirror_mode": {
    "name": "ipython",
    "version": 3
   },
   "file_extension": ".py",
   "mimetype": "text/x-python",
   "name": "python",
   "nbconvert_exporter": "python",
   "pygments_lexer": "ipython3",
   "version": "3.11.3"
  }
 },
 "nbformat": 4,
 "nbformat_minor": 5
}
