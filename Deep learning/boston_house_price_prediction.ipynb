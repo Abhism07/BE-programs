{
 "cells": [
  {
   "cell_type": "code",
   "execution_count": 1,
   "id": "178b511f",
   "metadata": {},
   "outputs": [],
   "source": [
    "import pandas as pd\n",
    "import numpy as np\n",
    "import tensorflow as tf"
   ]
  },
  {
   "cell_type": "code",
   "execution_count": 2,
   "id": "62f14b09",
   "metadata": {},
   "outputs": [
    {
     "data": {
      "text/html": [
       "<div>\n",
       "<style scoped>\n",
       "    .dataframe tbody tr th:only-of-type {\n",
       "        vertical-align: middle;\n",
       "    }\n",
       "\n",
       "    .dataframe tbody tr th {\n",
       "        vertical-align: top;\n",
       "    }\n",
       "\n",
       "    .dataframe thead th {\n",
       "        text-align: right;\n",
       "    }\n",
       "</style>\n",
       "<table border=\"1\" class=\"dataframe\">\n",
       "  <thead>\n",
       "    <tr style=\"text-align: right;\">\n",
       "      <th></th>\n",
       "      <th>CRIM</th>\n",
       "      <th>ZN</th>\n",
       "      <th>INDUS</th>\n",
       "      <th>CHAS</th>\n",
       "      <th>NOX</th>\n",
       "      <th>RM</th>\n",
       "      <th>AGE</th>\n",
       "      <th>DIS</th>\n",
       "      <th>RAD</th>\n",
       "      <th>TAX</th>\n",
       "      <th>PTRATIO</th>\n",
       "      <th>B</th>\n",
       "      <th>LSTAT</th>\n",
       "      <th>MEDV</th>\n",
       "    </tr>\n",
       "  </thead>\n",
       "  <tbody>\n",
       "    <tr>\n",
       "      <th>0</th>\n",
       "      <td>0.00632</td>\n",
       "      <td>18.0</td>\n",
       "      <td>2.31</td>\n",
       "      <td>0.0</td>\n",
       "      <td>0.538</td>\n",
       "      <td>6.575</td>\n",
       "      <td>65.2</td>\n",
       "      <td>4.0900</td>\n",
       "      <td>1</td>\n",
       "      <td>296</td>\n",
       "      <td>15.3</td>\n",
       "      <td>396.90</td>\n",
       "      <td>4.98</td>\n",
       "      <td>24.0</td>\n",
       "    </tr>\n",
       "    <tr>\n",
       "      <th>1</th>\n",
       "      <td>0.02731</td>\n",
       "      <td>0.0</td>\n",
       "      <td>7.07</td>\n",
       "      <td>0.0</td>\n",
       "      <td>0.469</td>\n",
       "      <td>6.421</td>\n",
       "      <td>78.9</td>\n",
       "      <td>4.9671</td>\n",
       "      <td>2</td>\n",
       "      <td>242</td>\n",
       "      <td>17.8</td>\n",
       "      <td>396.90</td>\n",
       "      <td>9.14</td>\n",
       "      <td>21.6</td>\n",
       "    </tr>\n",
       "    <tr>\n",
       "      <th>2</th>\n",
       "      <td>0.02729</td>\n",
       "      <td>0.0</td>\n",
       "      <td>7.07</td>\n",
       "      <td>0.0</td>\n",
       "      <td>0.469</td>\n",
       "      <td>7.185</td>\n",
       "      <td>61.1</td>\n",
       "      <td>4.9671</td>\n",
       "      <td>2</td>\n",
       "      <td>242</td>\n",
       "      <td>17.8</td>\n",
       "      <td>392.83</td>\n",
       "      <td>4.03</td>\n",
       "      <td>34.7</td>\n",
       "    </tr>\n",
       "    <tr>\n",
       "      <th>3</th>\n",
       "      <td>0.03237</td>\n",
       "      <td>0.0</td>\n",
       "      <td>2.18</td>\n",
       "      <td>0.0</td>\n",
       "      <td>0.458</td>\n",
       "      <td>6.998</td>\n",
       "      <td>45.8</td>\n",
       "      <td>6.0622</td>\n",
       "      <td>3</td>\n",
       "      <td>222</td>\n",
       "      <td>18.7</td>\n",
       "      <td>394.63</td>\n",
       "      <td>2.94</td>\n",
       "      <td>33.4</td>\n",
       "    </tr>\n",
       "    <tr>\n",
       "      <th>4</th>\n",
       "      <td>0.06905</td>\n",
       "      <td>0.0</td>\n",
       "      <td>2.18</td>\n",
       "      <td>0.0</td>\n",
       "      <td>0.458</td>\n",
       "      <td>7.147</td>\n",
       "      <td>54.2</td>\n",
       "      <td>6.0622</td>\n",
       "      <td>3</td>\n",
       "      <td>222</td>\n",
       "      <td>18.7</td>\n",
       "      <td>396.90</td>\n",
       "      <td>NaN</td>\n",
       "      <td>36.2</td>\n",
       "    </tr>\n",
       "  </tbody>\n",
       "</table>\n",
       "</div>"
      ],
      "text/plain": [
       "      CRIM    ZN  INDUS  CHAS    NOX     RM   AGE     DIS  RAD  TAX  PTRATIO   \n",
       "0  0.00632  18.0   2.31   0.0  0.538  6.575  65.2  4.0900    1  296     15.3  \\\n",
       "1  0.02731   0.0   7.07   0.0  0.469  6.421  78.9  4.9671    2  242     17.8   \n",
       "2  0.02729   0.0   7.07   0.0  0.469  7.185  61.1  4.9671    2  242     17.8   \n",
       "3  0.03237   0.0   2.18   0.0  0.458  6.998  45.8  6.0622    3  222     18.7   \n",
       "4  0.06905   0.0   2.18   0.0  0.458  7.147  54.2  6.0622    3  222     18.7   \n",
       "\n",
       "        B  LSTAT  MEDV  \n",
       "0  396.90   4.98  24.0  \n",
       "1  396.90   9.14  21.6  \n",
       "2  392.83   4.03  34.7  \n",
       "3  394.63   2.94  33.4  \n",
       "4  396.90    NaN  36.2  "
      ]
     },
     "execution_count": 2,
     "metadata": {},
     "output_type": "execute_result"
    }
   ],
   "source": [
    "df=pd.read_csv(\"housingdata.csv\")\n",
    "df.head()"
   ]
  },
  {
   "cell_type": "code",
   "execution_count": 3,
   "id": "a29337a2",
   "metadata": {},
   "outputs": [
    {
     "data": {
      "text/plain": [
       "CRIM       20\n",
       "ZN         20\n",
       "INDUS      20\n",
       "CHAS       20\n",
       "NOX         0\n",
       "RM          0\n",
       "AGE        20\n",
       "DIS         0\n",
       "RAD         0\n",
       "TAX         0\n",
       "PTRATIO     0\n",
       "B           0\n",
       "LSTAT      20\n",
       "MEDV        0\n",
       "dtype: int64"
      ]
     },
     "execution_count": 3,
     "metadata": {},
     "output_type": "execute_result"
    }
   ],
   "source": [
    "df.isnull().sum()"
   ]
  },
  {
   "cell_type": "code",
   "execution_count": 4,
   "id": "c6bd7ad3",
   "metadata": {},
   "outputs": [
    {
     "data": {
      "text/plain": [
       "CRIM         3.611874\n",
       "ZN          11.211934\n",
       "INDUS       11.083992\n",
       "CHAS         0.069959\n",
       "NOX          0.554695\n",
       "RM           6.284634\n",
       "AGE         68.518519\n",
       "DIS          3.795043\n",
       "RAD          9.549407\n",
       "TAX        408.237154\n",
       "PTRATIO     18.455534\n",
       "B          356.674032\n",
       "LSTAT       12.715432\n",
       "MEDV        22.532806\n",
       "dtype: float64"
      ]
     },
     "execution_count": 4,
     "metadata": {},
     "output_type": "execute_result"
    }
   ],
   "source": [
    "df.mean()"
   ]
  },
  {
   "cell_type": "code",
   "execution_count": 5,
   "id": "c9ed5174",
   "metadata": {},
   "outputs": [],
   "source": [
    "df.fillna(df.mean(),inplace=True)"
   ]
  },
  {
   "cell_type": "code",
   "execution_count": 6,
   "id": "5a1f4338",
   "metadata": {},
   "outputs": [],
   "source": [
    "x = df.drop('MEDV',axis=1)\n",
    "y=df['MEDV']"
   ]
  },
  {
   "cell_type": "code",
   "execution_count": 7,
   "id": "2853abe2",
   "metadata": {},
   "outputs": [
    {
     "name": "stdout",
     "output_type": "stream",
     "text": [
      "shape of scaled x train: (354, 13)\n",
      "shape of scaled x test: (152, 13)\n"
     ]
    }
   ],
   "source": [
    "from sklearn.model_selection import train_test_split\n",
    "from sklearn.preprocessing import MinMaxScaler\n",
    "x_train,x_test,y_train,y_test = train_test_split(x,y,test_size=0.3)\n",
    "scale = MinMaxScaler()\n",
    "x_train_scaled = scale.fit_transform(x_train)\n",
    "x_test_scaled = scale.fit_transform(x_test)\n",
    "print(\"shape of scaled x train:\",x_train_scaled.shape)\n",
    "print(\"shape of scaled x test:\",x_test_scaled.shape)"
   ]
  },
  {
   "cell_type": "code",
   "execution_count": 8,
   "id": "5b924252",
   "metadata": {},
   "outputs": [
    {
     "data": {
      "text/plain": [
       "array([0.00192773, 0.        , 0.33834311, 0.        , 0.40292276,\n",
       "       0.34695953, 0.71748401, 0.11551437, 0.2173913 , 0.38931298,\n",
       "       0.70212766, 0.99715064, 0.40466102])"
      ]
     },
     "execution_count": 8,
     "metadata": {},
     "output_type": "execute_result"
    }
   ],
   "source": [
    "x_train_scaled[0]"
   ]
  },
  {
   "cell_type": "code",
   "execution_count": 9,
   "id": "a8433ce0",
   "metadata": {},
   "outputs": [
    {
     "data": {
      "text/plain": [
       "(13,)"
      ]
     },
     "execution_count": 9,
     "metadata": {},
     "output_type": "execute_result"
    }
   ],
   "source": [
    "x_train_scaled[0].shape"
   ]
  },
  {
   "cell_type": "code",
   "execution_count": 10,
   "id": "23a24cb8",
   "metadata": {},
   "outputs": [],
   "source": [
    "from tensorflow.keras.models import Sequential\n",
    "from tensorflow.keras.layers import *\n",
    "\n",
    "def house_price_prediction():\n",
    "    model=Sequential()\n",
    "    model.add(Dense(128,activation='relu',input_shape=(x_train_scaled[0].shape)))\n",
    "    model.add(Dense(64,activation='relu'))\n",
    "    model.add(Dense(32,activation='relu'))\n",
    "    model.add(Dense(16,activation='relu'))\n",
    "    model.add(Dense(1))\n",
    "#     opt = tf.keras.optimizers.Adam()\n",
    "    model.compile(optimizer='adam',loss='mse',metrics=['mae'])\n",
    "    return model"
   ]
  },
  {
   "cell_type": "code",
   "execution_count": 11,
   "id": "b797f658",
   "metadata": {
    "scrolled": true
   },
   "outputs": [
    {
     "name": "stdout",
     "output_type": "stream",
     "text": [
      "Epoch 1/100\n",
      "354/354 [==============================] - 2s 2ms/step - loss: 164.9273 - mae: 8.9593 - val_loss: 49.8665 - val_mae: 4.8875\n",
      "Epoch 2/100\n",
      "354/354 [==============================] - 1s 2ms/step - loss: 41.8801 - mae: 4.4866 - val_loss: 28.9142 - val_mae: 3.7175\n",
      "Epoch 3/100\n",
      "354/354 [==============================] - 1s 2ms/step - loss: 28.5300 - mae: 3.6173 - val_loss: 46.9142 - val_mae: 6.0525\n",
      "Epoch 4/100\n",
      "354/354 [==============================] - 1s 3ms/step - loss: 26.4919 - mae: 3.6510 - val_loss: 20.3531 - val_mae: 3.0495\n",
      "Epoch 5/100\n",
      "354/354 [==============================] - 1s 2ms/step - loss: 24.4386 - mae: 3.3634 - val_loss: 29.8340 - val_mae: 4.6165\n",
      "Epoch 6/100\n",
      "354/354 [==============================] - 1s 2ms/step - loss: 26.2142 - mae: 3.6362 - val_loss: 18.2104 - val_mae: 2.8898\n",
      "Epoch 7/100\n",
      "354/354 [==============================] - 1s 2ms/step - loss: 23.1360 - mae: 3.2126 - val_loss: 19.8153 - val_mae: 3.5255\n",
      "Epoch 8/100\n",
      "354/354 [==============================] - 1s 2ms/step - loss: 23.8401 - mae: 3.2651 - val_loss: 16.4832 - val_mae: 2.6868\n",
      "Epoch 9/100\n",
      "354/354 [==============================] - 1s 2ms/step - loss: 22.1427 - mae: 3.1193 - val_loss: 19.4374 - val_mae: 3.5023\n",
      "Epoch 10/100\n",
      "354/354 [==============================] - 1s 2ms/step - loss: 20.7333 - mae: 3.0372 - val_loss: 19.9508 - val_mae: 3.0283\n",
      "Epoch 11/100\n",
      "354/354 [==============================] - 1s 2ms/step - loss: 20.1780 - mae: 2.9805 - val_loss: 15.7318 - val_mae: 2.5845\n",
      "Epoch 12/100\n",
      "354/354 [==============================] - 1s 2ms/step - loss: 20.2988 - mae: 2.9773 - val_loss: 19.1676 - val_mae: 3.6886\n",
      "Epoch 13/100\n",
      "354/354 [==============================] - 1s 2ms/step - loss: 19.9488 - mae: 2.9782 - val_loss: 13.2482 - val_mae: 2.5270\n",
      "Epoch 14/100\n",
      "354/354 [==============================] - 1s 2ms/step - loss: 20.0234 - mae: 2.9318 - val_loss: 19.8235 - val_mae: 3.7090\n",
      "Epoch 15/100\n",
      "354/354 [==============================] - 1s 2ms/step - loss: 19.5444 - mae: 2.9124 - val_loss: 15.0510 - val_mae: 2.6231\n",
      "Epoch 16/100\n",
      "354/354 [==============================] - 1s 2ms/step - loss: 19.1304 - mae: 2.9370 - val_loss: 13.4887 - val_mae: 2.6586\n",
      "Epoch 17/100\n",
      "354/354 [==============================] - 1s 2ms/step - loss: 17.6833 - mae: 2.8436 - val_loss: 14.4500 - val_mae: 3.0451\n",
      "Epoch 18/100\n",
      "354/354 [==============================] - 1s 2ms/step - loss: 18.7946 - mae: 2.9026 - val_loss: 12.1832 - val_mae: 2.4697\n",
      "Epoch 19/100\n",
      "354/354 [==============================] - 1s 2ms/step - loss: 16.7108 - mae: 2.7647 - val_loss: 15.7925 - val_mae: 3.3505\n",
      "Epoch 20/100\n",
      "354/354 [==============================] - 1s 2ms/step - loss: 16.4837 - mae: 2.7503 - val_loss: 10.5477 - val_mae: 2.4876\n",
      "Epoch 21/100\n",
      "354/354 [==============================] - 1s 2ms/step - loss: 15.6330 - mae: 2.7102 - val_loss: 41.8875 - val_mae: 5.6668\n",
      "Epoch 22/100\n",
      "354/354 [==============================] - 1s 2ms/step - loss: 16.5438 - mae: 2.8324 - val_loss: 16.2824 - val_mae: 3.3563\n",
      "Epoch 23/100\n",
      "354/354 [==============================] - 1s 2ms/step - loss: 15.5851 - mae: 2.7329 - val_loss: 15.6538 - val_mae: 3.0445\n",
      "Epoch 24/100\n",
      "354/354 [==============================] - 1s 2ms/step - loss: 14.8851 - mae: 2.6012 - val_loss: 10.4521 - val_mae: 2.4011\n",
      "Epoch 25/100\n",
      "354/354 [==============================] - 1s 2ms/step - loss: 14.7105 - mae: 2.6510 - val_loss: 10.7962 - val_mae: 2.5101\n",
      "Epoch 26/100\n",
      "354/354 [==============================] - 1s 2ms/step - loss: 14.1219 - mae: 2.5608 - val_loss: 11.9368 - val_mae: 2.5182\n",
      "Epoch 27/100\n",
      "354/354 [==============================] - 1s 2ms/step - loss: 14.9230 - mae: 2.6399 - val_loss: 9.3546 - val_mae: 2.3375\n",
      "Epoch 28/100\n",
      "354/354 [==============================] - 1s 2ms/step - loss: 13.6260 - mae: 2.5255 - val_loss: 14.4520 - val_mae: 2.8101\n",
      "Epoch 29/100\n",
      "354/354 [==============================] - 1s 2ms/step - loss: 14.1963 - mae: 2.6191 - val_loss: 11.8647 - val_mae: 2.5260\n",
      "Epoch 30/100\n",
      "354/354 [==============================] - 1s 2ms/step - loss: 13.3291 - mae: 2.5059 - val_loss: 10.8897 - val_mae: 2.4216\n",
      "Epoch 31/100\n",
      "354/354 [==============================] - 1s 2ms/step - loss: 12.2925 - mae: 2.4987 - val_loss: 11.4360 - val_mae: 2.6524\n",
      "Epoch 32/100\n",
      "354/354 [==============================] - 1s 2ms/step - loss: 12.5187 - mae: 2.3899 - val_loss: 9.6388 - val_mae: 2.3653\n",
      "Epoch 33/100\n",
      "354/354 [==============================] - 1s 2ms/step - loss: 12.1000 - mae: 2.4241 - val_loss: 11.0711 - val_mae: 2.6632\n",
      "Epoch 34/100\n",
      "354/354 [==============================] - 1s 2ms/step - loss: 12.8902 - mae: 2.6142 - val_loss: 11.5077 - val_mae: 2.7370\n",
      "Epoch 35/100\n",
      "354/354 [==============================] - 1s 2ms/step - loss: 12.5808 - mae: 2.5919 - val_loss: 10.9801 - val_mae: 2.5379\n",
      "Epoch 36/100\n",
      "354/354 [==============================] - 1s 2ms/step - loss: 11.9940 - mae: 2.4399 - val_loss: 9.2748 - val_mae: 2.3879\n",
      "Epoch 37/100\n",
      "354/354 [==============================] - 1s 2ms/step - loss: 12.1751 - mae: 2.4350 - val_loss: 8.8055 - val_mae: 2.3698\n",
      "Epoch 38/100\n",
      "354/354 [==============================] - 1s 2ms/step - loss: 10.3148 - mae: 2.2160 - val_loss: 9.8196 - val_mae: 2.5744\n",
      "Epoch 39/100\n",
      "354/354 [==============================] - 1s 2ms/step - loss: 10.9465 - mae: 2.3241 - val_loss: 19.8921 - val_mae: 3.7126\n",
      "Epoch 40/100\n",
      "354/354 [==============================] - 1s 2ms/step - loss: 10.8909 - mae: 2.3663 - val_loss: 15.1873 - val_mae: 3.1134\n",
      "Epoch 41/100\n",
      "354/354 [==============================] - 1s 3ms/step - loss: 11.0144 - mae: 2.3775 - val_loss: 10.2486 - val_mae: 2.5121\n",
      "Epoch 42/100\n",
      "354/354 [==============================] - 1s 2ms/step - loss: 10.6868 - mae: 2.3679 - val_loss: 11.1792 - val_mae: 2.6781\n",
      "Epoch 43/100\n",
      "354/354 [==============================] - 1s 2ms/step - loss: 10.4503 - mae: 2.2986 - val_loss: 9.3772 - val_mae: 2.3946\n",
      "Epoch 44/100\n",
      "354/354 [==============================] - 1s 2ms/step - loss: 10.3160 - mae: 2.1212 - val_loss: 11.6326 - val_mae: 2.6264\n",
      "Epoch 45/100\n",
      "354/354 [==============================] - 1s 2ms/step - loss: 10.0061 - mae: 2.2377 - val_loss: 9.1144 - val_mae: 2.3457\n",
      "Epoch 46/100\n",
      "354/354 [==============================] - 1s 2ms/step - loss: 10.3050 - mae: 2.3257 - val_loss: 9.7438 - val_mae: 2.4179\n",
      "Epoch 47/100\n",
      "354/354 [==============================] - 1s 2ms/step - loss: 10.5859 - mae: 2.3351 - val_loss: 8.3514 - val_mae: 2.2416\n",
      "Epoch 48/100\n",
      "354/354 [==============================] - 1s 2ms/step - loss: 9.6013 - mae: 2.1942 - val_loss: 8.5999 - val_mae: 2.2486\n",
      "Epoch 49/100\n",
      "354/354 [==============================] - 1s 2ms/step - loss: 10.0201 - mae: 2.2362 - val_loss: 10.0135 - val_mae: 2.5145\n",
      "Epoch 50/100\n",
      "354/354 [==============================] - 1s 2ms/step - loss: 9.2847 - mae: 2.1798 - val_loss: 8.1056 - val_mae: 2.2405\n",
      "Epoch 51/100\n",
      "354/354 [==============================] - 1s 3ms/step - loss: 9.7931 - mae: 2.1848 - val_loss: 13.2397 - val_mae: 2.9840\n",
      "Epoch 52/100\n",
      "354/354 [==============================] - 1s 2ms/step - loss: 11.0644 - mae: 2.3438 - val_loss: 10.5165 - val_mae: 2.5685\n",
      "Epoch 53/100\n",
      "354/354 [==============================] - 1s 2ms/step - loss: 9.1621 - mae: 2.0691 - val_loss: 11.1470 - val_mae: 2.6699\n",
      "Epoch 54/100\n",
      "354/354 [==============================] - 1s 2ms/step - loss: 9.5773 - mae: 2.1831 - val_loss: 12.6785 - val_mae: 2.7528\n",
      "Epoch 55/100\n",
      "354/354 [==============================] - 1s 2ms/step - loss: 9.3211 - mae: 2.1661 - val_loss: 11.3157 - val_mae: 2.6965\n",
      "Epoch 56/100\n",
      "354/354 [==============================] - 1s 2ms/step - loss: 8.4680 - mae: 2.0780 - val_loss: 9.0208 - val_mae: 2.3846\n",
      "Epoch 57/100\n",
      "354/354 [==============================] - 1s 2ms/step - loss: 9.1170 - mae: 2.1363 - val_loss: 7.6473 - val_mae: 2.1568\n",
      "Epoch 58/100\n",
      "354/354 [==============================] - 1s 2ms/step - loss: 8.7240 - mae: 2.1673 - val_loss: 9.0094 - val_mae: 2.3227\n",
      "Epoch 59/100\n",
      "354/354 [==============================] - 1s 2ms/step - loss: 8.8574 - mae: 2.1383 - val_loss: 8.5697 - val_mae: 2.3111\n",
      "Epoch 60/100\n",
      "354/354 [==============================] - 1s 2ms/step - loss: 8.5568 - mae: 1.9715 - val_loss: 8.7067 - val_mae: 2.3269\n",
      "Epoch 61/100\n",
      "354/354 [==============================] - 1s 2ms/step - loss: 8.4834 - mae: 2.0393 - val_loss: 8.7657 - val_mae: 2.3069\n",
      "Epoch 62/100\n",
      "354/354 [==============================] - 1s 2ms/step - loss: 8.3596 - mae: 2.0434 - val_loss: 8.4705 - val_mae: 2.2884\n",
      "Epoch 63/100\n",
      "354/354 [==============================] - 1s 2ms/step - loss: 8.9686 - mae: 2.1337 - val_loss: 8.5628 - val_mae: 2.3060\n",
      "Epoch 64/100\n",
      "354/354 [==============================] - 1s 2ms/step - loss: 7.9294 - mae: 2.0364 - val_loss: 10.1193 - val_mae: 2.6067\n",
      "Epoch 65/100\n",
      "354/354 [==============================] - 1s 2ms/step - loss: 8.9539 - mae: 2.1171 - val_loss: 16.1093 - val_mae: 2.8861\n",
      "Epoch 66/100\n",
      "354/354 [==============================] - 1s 2ms/step - loss: 7.6468 - mae: 2.0937 - val_loss: 8.6544 - val_mae: 2.3290\n",
      "Epoch 67/100\n",
      "354/354 [==============================] - 1s 2ms/step - loss: 8.0070 - mae: 2.0024 - val_loss: 11.1301 - val_mae: 2.6767\n",
      "Epoch 68/100\n",
      "354/354 [==============================] - 1s 3ms/step - loss: 7.9904 - mae: 1.9398 - val_loss: 8.6281 - val_mae: 2.3524\n",
      "Epoch 69/100\n",
      "354/354 [==============================] - 1s 2ms/step - loss: 7.4862 - mae: 1.9639 - val_loss: 8.1243 - val_mae: 2.3051\n",
      "Epoch 70/100\n",
      "354/354 [==============================] - 1s 2ms/step - loss: 7.6224 - mae: 1.9350 - val_loss: 9.2133 - val_mae: 2.3817\n",
      "Epoch 71/100\n",
      "354/354 [==============================] - 1s 2ms/step - loss: 7.6665 - mae: 2.0001 - val_loss: 9.1928 - val_mae: 2.5269\n",
      "Epoch 72/100\n",
      "354/354 [==============================] - 1s 2ms/step - loss: 7.7615 - mae: 1.9809 - val_loss: 8.8950 - val_mae: 2.3319\n",
      "Epoch 73/100\n",
      "354/354 [==============================] - 1s 2ms/step - loss: 7.7557 - mae: 1.9361 - val_loss: 10.4583 - val_mae: 2.5055\n",
      "Epoch 74/100\n",
      "354/354 [==============================] - 1s 2ms/step - loss: 7.0968 - mae: 1.9692 - val_loss: 9.3655 - val_mae: 2.3707\n",
      "Epoch 75/100\n",
      "354/354 [==============================] - 1s 2ms/step - loss: 6.8179 - mae: 1.8749 - val_loss: 8.0045 - val_mae: 2.2428\n",
      "Epoch 76/100\n",
      "354/354 [==============================] - 1s 2ms/step - loss: 7.0305 - mae: 1.8719 - val_loss: 8.1303 - val_mae: 2.2651\n",
      "Epoch 77/100\n",
      "354/354 [==============================] - 1s 2ms/step - loss: 8.2446 - mae: 2.0952 - val_loss: 8.7787 - val_mae: 2.3466\n",
      "Epoch 78/100\n",
      "354/354 [==============================] - 1s 2ms/step - loss: 6.9859 - mae: 1.9446 - val_loss: 8.9144 - val_mae: 2.3777\n",
      "Epoch 79/100\n",
      "354/354 [==============================] - 1s 2ms/step - loss: 8.2447 - mae: 2.0758 - val_loss: 8.7099 - val_mae: 2.3719\n",
      "Epoch 80/100\n",
      "354/354 [==============================] - 1s 2ms/step - loss: 6.5241 - mae: 1.8560 - val_loss: 10.1990 - val_mae: 2.5531\n",
      "Epoch 81/100\n",
      "354/354 [==============================] - 1s 2ms/step - loss: 6.5153 - mae: 1.9180 - val_loss: 12.4555 - val_mae: 2.4709\n",
      "Epoch 82/100\n",
      "354/354 [==============================] - 1s 2ms/step - loss: 6.4028 - mae: 1.8263 - val_loss: 18.7924 - val_mae: 3.2814\n",
      "Epoch 83/100\n",
      "354/354 [==============================] - 1s 2ms/step - loss: 7.3819 - mae: 1.9472 - val_loss: 8.7543 - val_mae: 2.3659\n",
      "Epoch 84/100\n",
      "354/354 [==============================] - 1s 2ms/step - loss: 7.1296 - mae: 1.9554 - val_loss: 9.5532 - val_mae: 2.4183\n",
      "Epoch 85/100\n",
      "354/354 [==============================] - 1s 2ms/step - loss: 7.5572 - mae: 1.9943 - val_loss: 8.6362 - val_mae: 2.3089\n",
      "Epoch 86/100\n",
      "354/354 [==============================] - 1s 2ms/step - loss: 7.2355 - mae: 1.8828 - val_loss: 10.2076 - val_mae: 2.4372\n",
      "Epoch 87/100\n",
      "354/354 [==============================] - 1s 2ms/step - loss: 6.4046 - mae: 1.8069 - val_loss: 10.6350 - val_mae: 2.5965\n",
      "Epoch 88/100\n",
      "354/354 [==============================] - 1s 2ms/step - loss: 5.8552 - mae: 1.7771 - val_loss: 9.4365 - val_mae: 2.3966\n",
      "Epoch 89/100\n",
      "354/354 [==============================] - 1s 2ms/step - loss: 6.6092 - mae: 1.8663 - val_loss: 9.1727 - val_mae: 2.3736\n",
      "Epoch 90/100\n",
      "354/354 [==============================] - 1s 2ms/step - loss: 6.1069 - mae: 1.8188 - val_loss: 11.1390 - val_mae: 2.4545\n",
      "Epoch 91/100\n",
      "354/354 [==============================] - 1s 2ms/step - loss: 6.9413 - mae: 1.8437 - val_loss: 9.9362 - val_mae: 2.5116\n",
      "Epoch 92/100\n",
      "354/354 [==============================] - 1s 2ms/step - loss: 7.0550 - mae: 1.9455 - val_loss: 8.0323 - val_mae: 2.2739\n",
      "Epoch 93/100\n",
      "354/354 [==============================] - 1s 2ms/step - loss: 6.0071 - mae: 1.7243 - val_loss: 8.3673 - val_mae: 2.2563\n",
      "Epoch 94/100\n",
      "354/354 [==============================] - 1s 2ms/step - loss: 5.0088 - mae: 1.6532 - val_loss: 15.1917 - val_mae: 2.6367\n",
      "Epoch 95/100\n",
      "354/354 [==============================] - 1s 2ms/step - loss: 5.7943 - mae: 1.7520 - val_loss: 8.8168 - val_mae: 2.4034\n",
      "Epoch 96/100\n",
      "354/354 [==============================] - 1s 2ms/step - loss: 6.0872 - mae: 1.7848 - val_loss: 10.2104 - val_mae: 2.4725\n",
      "Epoch 97/100\n",
      "354/354 [==============================] - 1s 2ms/step - loss: 6.0275 - mae: 1.7615 - val_loss: 9.5617 - val_mae: 2.3883\n",
      "Epoch 98/100\n",
      "354/354 [==============================] - 1s 2ms/step - loss: 7.0811 - mae: 1.9095 - val_loss: 10.3457 - val_mae: 2.5030\n",
      "Epoch 99/100\n",
      "354/354 [==============================] - 1s 2ms/step - loss: 6.1670 - mae: 1.8153 - val_loss: 8.1501 - val_mae: 2.2659\n",
      "Epoch 100/100\n",
      "354/354 [==============================] - 1s 2ms/step - loss: 6.2809 - mae: 1.8658 - val_loss: 9.2131 - val_mae: 2.3239\n"
     ]
    }
   ],
   "source": [
    "model= house_price_prediction()\n",
    "history=model.fit(x=x_train_scaled,y=y_train,batch_size=1,verbose=1,epochs=100,validation_data=(x_test_scaled,y_test))"
   ]
  },
  {
   "cell_type": "code",
   "execution_count": 12,
   "id": "5d9058de",
   "metadata": {},
   "outputs": [
    {
     "name": "stdout",
     "output_type": "stream",
     "text": [
      "actual output: 24.0\n",
      "1/1 [==============================] - 0s 118ms/step\n",
      "predicted output: [[23.35815]]\n"
     ]
    }
   ],
   "source": [
    "test_input = [[0.00154995, 0.        , 0.28962963, 0.        , 0.27777778,\n",
    "       0.56936665, 0.70442842, 0.15699879, 0.17391304, 0.3759542 ,\n",
    "       0.88297872, 0.99665297, 0.16851064]]\n",
    "print(\"actual output:\",24.0)\n",
    "print(\"predicted output:\",model.predict(test_input))"
   ]
  },
  {
   "cell_type": "code",
   "execution_count": null,
   "id": "9a8eed45",
   "metadata": {},
   "outputs": [],
   "source": []
  },
  {
   "cell_type": "code",
   "execution_count": 13,
   "id": "f94d08e6",
   "metadata": {},
   "outputs": [
    {
     "data": {
      "image/png": "[encoded data removed]",
      "text/plain": [
       "<Figure size 640x480 with 1 Axes>"
      ]
     },
     "metadata": {},
     "output_type": "display_data"
    }
   ],
   "source": [
    "import matplotlib.pyplot as plt\n",
    "\n",
    "# Plot training & validation loss values\n",
    "plt.plot(history.history['loss'])\n",
    "plt.plot(history.history['val_loss'])\n",
    "plt.title('Model Loss')\n",
    "plt.xlabel('Epoch')\n",
    "plt.ylabel('Loss')\n",
    "plt.legend(['Train', 'Validation'], loc='upper left')\n",
    "plt.show()\n"
   ]
  },
  {
   "cell_type": "code",
   "execution_count": null,
   "id": "9d27e44c",
   "metadata": {},
   "outputs": [],
   "source": []
  }
 ],
 "metadata": {
  "kernelspec": {
   "display_name": "Python 3 (ipykernel)",
   "language": "python",
   "name": "python3"
  },
  "language_info": {
   "codemirror_mode": {
    "name": "ipython",
    "version": 3
   },
   "file_extension": ".py",
   "mimetype": "text/x-python",
   "name": "python",
   "nbconvert_exporter": "python",
   "pygments_lexer": "ipython3",
   "version": "3.11.3"
  }
 },
 "nbformat": 4,
 "nbformat_minor": 5
}
