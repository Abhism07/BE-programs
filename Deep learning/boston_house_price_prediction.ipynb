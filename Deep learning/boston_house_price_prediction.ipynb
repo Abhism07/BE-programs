{
 "cells": [
  {
   "cell_type": "markdown",
   "id": "ca9e9c82",
   "metadata": {},
   "source": [
    "dataset-https://www.kaggle.com/datasets/altavish/boston-housing-dataset"
   ]
  },
  {
   "cell_type": "code",
   "execution_count": 29,
   "id": "178b511f",
   "metadata": {},
   "outputs": [],
   "source": [
    "import pandas as pd\n",
    "import numpy as np\n",
    "import tensorflow as tf"
   ]
  },
  {
   "cell_type": "code",
   "execution_count": 30,
   "id": "62f14b09",
   "metadata": {},
   "outputs": [
    {
     "data": {
      "text/html": [
       "<div>\n",
       "<style scoped>\n",
       "    .dataframe tbody tr th:only-of-type {\n",
       "        vertical-align: middle;\n",
       "    }\n",
       "\n",
       "    .dataframe tbody tr th {\n",
       "        vertical-align: top;\n",
       "    }\n",
       "\n",
       "    .dataframe thead th {\n",
       "        text-align: right;\n",
       "    }\n",
       "</style>\n",
       "<table border=\"1\" class=\"dataframe\">\n",
       "  <thead>\n",
       "    <tr style=\"text-align: right;\">\n",
       "      <th></th>\n",
       "      <th>CRIM</th>\n",
       "      <th>ZN</th>\n",
       "      <th>INDUS</th>\n",
       "      <th>CHAS</th>\n",
       "      <th>NOX</th>\n",
       "      <th>RM</th>\n",
       "      <th>AGE</th>\n",
       "      <th>DIS</th>\n",
       "      <th>RAD</th>\n",
       "      <th>TAX</th>\n",
       "      <th>PTRATIO</th>\n",
       "      <th>B</th>\n",
       "      <th>LSTAT</th>\n",
       "      <th>MEDV</th>\n",
       "    </tr>\n",
       "  </thead>\n",
       "  <tbody>\n",
       "    <tr>\n",
       "      <th>0</th>\n",
       "      <td>0.00632</td>\n",
       "      <td>18.0</td>\n",
       "      <td>2.31</td>\n",
       "      <td>0.0</td>\n",
       "      <td>0.538</td>\n",
       "      <td>6.575</td>\n",
       "      <td>65.2</td>\n",
       "      <td>4.0900</td>\n",
       "      <td>1</td>\n",
       "      <td>296</td>\n",
       "      <td>15.3</td>\n",
       "      <td>396.90</td>\n",
       "      <td>4.98</td>\n",
       "      <td>24.0</td>\n",
       "    </tr>\n",
       "    <tr>\n",
       "      <th>1</th>\n",
       "      <td>0.02731</td>\n",
       "      <td>0.0</td>\n",
       "      <td>7.07</td>\n",
       "      <td>0.0</td>\n",
       "      <td>0.469</td>\n",
       "      <td>6.421</td>\n",
       "      <td>78.9</td>\n",
       "      <td>4.9671</td>\n",
       "      <td>2</td>\n",
       "      <td>242</td>\n",
       "      <td>17.8</td>\n",
       "      <td>396.90</td>\n",
       "      <td>9.14</td>\n",
       "      <td>21.6</td>\n",
       "    </tr>\n",
       "    <tr>\n",
       "      <th>2</th>\n",
       "      <td>0.02729</td>\n",
       "      <td>0.0</td>\n",
       "      <td>7.07</td>\n",
       "      <td>0.0</td>\n",
       "      <td>0.469</td>\n",
       "      <td>7.185</td>\n",
       "      <td>61.1</td>\n",
       "      <td>4.9671</td>\n",
       "      <td>2</td>\n",
       "      <td>242</td>\n",
       "      <td>17.8</td>\n",
       "      <td>392.83</td>\n",
       "      <td>4.03</td>\n",
       "      <td>34.7</td>\n",
       "    </tr>\n",
       "    <tr>\n",
       "      <th>3</th>\n",
       "      <td>0.03237</td>\n",
       "      <td>0.0</td>\n",
       "      <td>2.18</td>\n",
       "      <td>0.0</td>\n",
       "      <td>0.458</td>\n",
       "      <td>6.998</td>\n",
       "      <td>45.8</td>\n",
       "      <td>6.0622</td>\n",
       "      <td>3</td>\n",
       "      <td>222</td>\n",
       "      <td>18.7</td>\n",
       "      <td>394.63</td>\n",
       "      <td>2.94</td>\n",
       "      <td>33.4</td>\n",
       "    </tr>\n",
       "    <tr>\n",
       "      <th>4</th>\n",
       "      <td>0.06905</td>\n",
       "      <td>0.0</td>\n",
       "      <td>2.18</td>\n",
       "      <td>0.0</td>\n",
       "      <td>0.458</td>\n",
       "      <td>7.147</td>\n",
       "      <td>54.2</td>\n",
       "      <td>6.0622</td>\n",
       "      <td>3</td>\n",
       "      <td>222</td>\n",
       "      <td>18.7</td>\n",
       "      <td>396.90</td>\n",
       "      <td>NaN</td>\n",
       "      <td>36.2</td>\n",
       "    </tr>\n",
       "  </tbody>\n",
       "</table>\n",
       "</div>"
      ],
      "text/plain": [
       "      CRIM    ZN  INDUS  CHAS    NOX     RM   AGE     DIS  RAD  TAX  PTRATIO   \n",
       "0  0.00632  18.0   2.31   0.0  0.538  6.575  65.2  4.0900    1  296     15.3  \\\n",
       "1  0.02731   0.0   7.07   0.0  0.469  6.421  78.9  4.9671    2  242     17.8   \n",
       "2  0.02729   0.0   7.07   0.0  0.469  7.185  61.1  4.9671    2  242     17.8   \n",
       "3  0.03237   0.0   2.18   0.0  0.458  6.998  45.8  6.0622    3  222     18.7   \n",
       "4  0.06905   0.0   2.18   0.0  0.458  7.147  54.2  6.0622    3  222     18.7   \n",
       "\n",
       "        B  LSTAT  MEDV  \n",
       "0  396.90   4.98  24.0  \n",
       "1  396.90   9.14  21.6  \n",
       "2  392.83   4.03  34.7  \n",
       "3  394.63   2.94  33.4  \n",
       "4  396.90    NaN  36.2  "
      ]
     },
     "execution_count": 30,
     "metadata": {},
     "output_type": "execute_result"
    }
   ],
   "source": [
    "df=pd.read_csv(\"housingdata.csv\")\n",
    "df.head()"
   ]
  },
  {
   "cell_type": "code",
   "execution_count": 31,
   "id": "a29337a2",
   "metadata": {},
   "outputs": [
    {
     "data": {
      "text/plain": [
       "CRIM       20\n",
       "ZN         20\n",
       "INDUS      20\n",
       "CHAS       20\n",
       "NOX         0\n",
       "RM          0\n",
       "AGE        20\n",
       "DIS         0\n",
       "RAD         0\n",
       "TAX         0\n",
       "PTRATIO     0\n",
       "B           0\n",
       "LSTAT      20\n",
       "MEDV        0\n",
       "dtype: int64"
      ]
     },
     "execution_count": 31,
     "metadata": {},
     "output_type": "execute_result"
    }
   ],
   "source": [
    "df.isnull().sum()"
   ]
  },
  {
   "cell_type": "code",
   "execution_count": 32,
   "id": "c6bd7ad3",
   "metadata": {},
   "outputs": [
    {
     "data": {
      "text/plain": [
       "CRIM         3.611874\n",
       "ZN          11.211934\n",
       "INDUS       11.083992\n",
       "CHAS         0.069959\n",
       "NOX          0.554695\n",
       "RM           6.284634\n",
       "AGE         68.518519\n",
       "DIS          3.795043\n",
       "RAD          9.549407\n",
       "TAX        408.237154\n",
       "PTRATIO     18.455534\n",
       "B          356.674032\n",
       "LSTAT       12.715432\n",
       "MEDV        22.532806\n",
       "dtype: float64"
      ]
     },
     "execution_count": 32,
     "metadata": {},
     "output_type": "execute_result"
    }
   ],
   "source": [
    "df.mean()"
   ]
  },
  {
   "cell_type": "code",
   "execution_count": 33,
   "id": "c9ed5174",
   "metadata": {},
   "outputs": [],
   "source": [
    "df.fillna(df.mean(),inplace=True)"
   ]
  },
  {
   "cell_type": "code",
   "execution_count": 34,
   "id": "5a1f4338",
   "metadata": {},
   "outputs": [],
   "source": [
    "x = df.drop('MEDV',axis=1)\n",
    "y=df['MEDV']"
   ]
  },
  {
   "cell_type": "code",
   "execution_count": 35,
   "id": "2853abe2",
   "metadata": {},
   "outputs": [
    {
     "name": "stdout",
     "output_type": "stream",
     "text": [
      "shape of scaled x train: (354, 13)\n",
      "shape of scaled x test: (152, 13)\n"
     ]
    }
   ],
   "source": [
    "from sklearn.model_selection import train_test_split\n",
    "from sklearn.preprocessing import MinMaxScaler\n",
    "x_train,x_test,y_train,y_test = train_test_split(x,y,test_size=0.3)\n",
    "scale = MinMaxScaler()\n",
    "x_train_scaled = scale.fit_transform(x_train)\n",
    "x_test_scaled = scale.fit_transform(x_test)\n",
    "print(\"shape of scaled x train:\",x_train_scaled.shape)\n",
    "print(\"shape of scaled x test:\",x_test_scaled.shape)"
   ]
  },
  {
   "cell_type": "code",
   "execution_count": 36,
   "id": "5b924252",
   "metadata": {
    "scrolled": true
   },
   "outputs": [
    {
     "data": {
      "text/plain": [
       "array([2.11484693e-04, 6.00000000e-01, 9.05425220e-02, 0.00000000e+00,\n",
       "       3.29218107e-02, 6.20616976e-01, 6.75782889e-01, 5.31276420e-01,\n",
       "       0.00000000e+00, 1.47227533e-01, 3.19148936e-01, 9.91098896e-01,\n",
       "       9.10596026e-02])"
      ]
     },
     "execution_count": 36,
     "metadata": {},
     "output_type": "execute_result"
    }
   ],
   "source": [
    "x_train_scaled[0]"
   ]
  },
  {
   "cell_type": "code",
   "execution_count": 37,
   "id": "a8433ce0",
   "metadata": {},
   "outputs": [
    {
     "data": {
      "text/plain": [
       "(13,)"
      ]
     },
     "execution_count": 37,
     "metadata": {},
     "output_type": "execute_result"
    }
   ],
   "source": [
    "x_train_scaled[0].shape"
   ]
  },
  {
   "cell_type": "code",
   "execution_count": 43,
   "id": "23a24cb8",
   "metadata": {},
   "outputs": [],
   "source": [
    "from tensorflow.keras.models import Sequential\n",
    "from tensorflow.keras.layers import *\n",
    "\n",
    "\n",
    "model=Sequential()\n",
    "model.add(Dense(128,activation='relu',input_shape=(x_train_scaled[0].shape)))\n",
    "model.add(Dense(64,activation='relu'))\n",
    "model.add(Dense(32,activation='relu'))\n",
    "model.add(Dense(16,activation='relu'))\n",
    "model.add(Dense(1))\n",
    "model.compile(optimizer='adam',loss='mse',metrics=['mae'])\n"
   ]
  },
  {
   "cell_type": "code",
   "execution_count": 44,
   "id": "b797f658",
   "metadata": {
    "scrolled": true
   },
   "outputs": [
    {
     "name": "stdout",
     "output_type": "stream",
     "text": [
      "Epoch 1/100\n",
      "354/354 [==============================] - 2s 3ms/step - loss: 140.5553 - mae: 8.2771 - val_loss: 60.0722 - val_mae: 5.3147\n",
      "Epoch 2/100\n",
      "354/354 [==============================] - 1s 2ms/step - loss: 37.9560 - mae: 4.4490 - val_loss: 31.0872 - val_mae: 3.8924\n",
      "Epoch 3/100\n",
      "354/354 [==============================] - 1s 2ms/step - loss: 28.1669 - mae: 3.7668 - val_loss: 27.1174 - val_mae: 3.6943\n",
      "Epoch 4/100\n",
      "354/354 [==============================] - 1s 2ms/step - loss: 24.3563 - mae: 3.4391 - val_loss: 26.0404 - val_mae: 3.5229\n",
      "Epoch 5/100\n",
      "354/354 [==============================] - 1s 2ms/step - loss: 23.0981 - mae: 3.3249 - val_loss: 24.0932 - val_mae: 3.3058\n",
      "Epoch 6/100\n",
      "354/354 [==============================] - 1s 2ms/step - loss: 19.7171 - mae: 3.0120 - val_loss: 33.3098 - val_mae: 4.0653\n",
      "Epoch 7/100\n",
      "354/354 [==============================] - 1s 2ms/step - loss: 20.8520 - mae: 3.0192 - val_loss: 21.6383 - val_mae: 3.3252\n",
      "Epoch 8/100\n",
      "354/354 [==============================] - 1s 2ms/step - loss: 20.6745 - mae: 3.0592 - val_loss: 21.8821 - val_mae: 3.0178\n",
      "Epoch 9/100\n",
      "354/354 [==============================] - 1s 2ms/step - loss: 19.1125 - mae: 2.9556 - val_loss: 20.6685 - val_mae: 2.9184\n",
      "Epoch 10/100\n",
      "354/354 [==============================] - 1s 2ms/step - loss: 18.2620 - mae: 2.8672 - val_loss: 25.2005 - val_mae: 3.3956\n",
      "Epoch 11/100\n",
      "354/354 [==============================] - 1s 2ms/step - loss: 17.2278 - mae: 2.7275 - val_loss: 24.9752 - val_mae: 3.3627\n",
      "Epoch 12/100\n",
      "354/354 [==============================] - 1s 2ms/step - loss: 17.3338 - mae: 2.7911 - val_loss: 25.1552 - val_mae: 3.4850\n",
      "Epoch 13/100\n",
      "354/354 [==============================] - 1s 2ms/step - loss: 16.1123 - mae: 2.6674 - val_loss: 22.4063 - val_mae: 3.5359\n",
      "Epoch 14/100\n",
      "354/354 [==============================] - 1s 2ms/step - loss: 16.2606 - mae: 2.7661 - val_loss: 16.5974 - val_mae: 2.6829\n",
      "Epoch 15/100\n",
      "354/354 [==============================] - 1s 2ms/step - loss: 15.0773 - mae: 2.6165 - val_loss: 18.6138 - val_mae: 3.0239\n",
      "Epoch 16/100\n",
      "354/354 [==============================] - 1s 2ms/step - loss: 14.3086 - mae: 2.7172 - val_loss: 20.9353 - val_mae: 3.0839\n",
      "Epoch 17/100\n",
      "354/354 [==============================] - 1s 2ms/step - loss: 14.9211 - mae: 2.6708 - val_loss: 17.2744 - val_mae: 2.7701\n",
      "Epoch 18/100\n",
      "354/354 [==============================] - 1s 2ms/step - loss: 15.2609 - mae: 2.7152 - val_loss: 15.8284 - val_mae: 2.7351\n",
      "Epoch 19/100\n",
      "354/354 [==============================] - 1s 2ms/step - loss: 12.5849 - mae: 2.4834 - val_loss: 14.8805 - val_mae: 2.6244\n",
      "Epoch 20/100\n",
      "354/354 [==============================] - 1s 2ms/step - loss: 13.3772 - mae: 2.5772 - val_loss: 16.2310 - val_mae: 2.7951\n",
      "Epoch 21/100\n",
      "354/354 [==============================] - 1s 2ms/step - loss: 13.2843 - mae: 2.5511 - val_loss: 17.4359 - val_mae: 2.9494\n",
      "Epoch 22/100\n",
      "354/354 [==============================] - 1s 2ms/step - loss: 12.9347 - mae: 2.4522 - val_loss: 14.5228 - val_mae: 2.6983\n",
      "Epoch 23/100\n",
      "354/354 [==============================] - 1s 2ms/step - loss: 11.9198 - mae: 2.4215 - val_loss: 20.2540 - val_mae: 3.2748\n",
      "Epoch 24/100\n",
      "354/354 [==============================] - 1s 2ms/step - loss: 11.4111 - mae: 2.4540 - val_loss: 15.0858 - val_mae: 2.7662\n",
      "Epoch 25/100\n",
      "354/354 [==============================] - 1s 2ms/step - loss: 11.2425 - mae: 2.2908 - val_loss: 14.5067 - val_mae: 2.6931\n",
      "Epoch 26/100\n",
      "354/354 [==============================] - 1s 2ms/step - loss: 11.6789 - mae: 2.4260 - val_loss: 14.3591 - val_mae: 2.7456\n",
      "Epoch 27/100\n",
      "354/354 [==============================] - 1s 2ms/step - loss: 11.2862 - mae: 2.4156 - val_loss: 14.0003 - val_mae: 2.6848\n",
      "Epoch 28/100\n",
      "354/354 [==============================] - 1s 2ms/step - loss: 10.8126 - mae: 2.2880 - val_loss: 16.3247 - val_mae: 2.9800\n",
      "Epoch 29/100\n",
      "354/354 [==============================] - 1s 2ms/step - loss: 9.7011 - mae: 2.2158 - val_loss: 14.3169 - val_mae: 2.7558\n",
      "Epoch 30/100\n",
      "354/354 [==============================] - 1s 2ms/step - loss: 10.0573 - mae: 2.2409 - val_loss: 21.2055 - val_mae: 3.5407\n",
      "Epoch 31/100\n",
      "354/354 [==============================] - 1s 2ms/step - loss: 11.1055 - mae: 2.4500 - val_loss: 20.8918 - val_mae: 3.5383\n",
      "Epoch 32/100\n",
      "354/354 [==============================] - 1s 2ms/step - loss: 11.0276 - mae: 2.3648 - val_loss: 13.3054 - val_mae: 2.6841\n",
      "Epoch 33/100\n",
      "354/354 [==============================] - 1s 2ms/step - loss: 9.2482 - mae: 2.1870 - val_loss: 14.2000 - val_mae: 2.7049\n",
      "Epoch 34/100\n",
      "354/354 [==============================] - 1s 2ms/step - loss: 10.6651 - mae: 2.2784 - val_loss: 14.8480 - val_mae: 2.8862\n",
      "Epoch 35/100\n",
      "354/354 [==============================] - 1s 2ms/step - loss: 9.8217 - mae: 2.2498 - val_loss: 12.2234 - val_mae: 2.5596\n",
      "Epoch 36/100\n",
      "354/354 [==============================] - 1s 2ms/step - loss: 8.6756 - mae: 2.0855 - val_loss: 11.1932 - val_mae: 2.4841\n",
      "Epoch 37/100\n",
      "354/354 [==============================] - 1s 2ms/step - loss: 9.1052 - mae: 2.1872 - val_loss: 13.6785 - val_mae: 2.7549\n",
      "Epoch 38/100\n",
      "354/354 [==============================] - 1s 2ms/step - loss: 10.3068 - mae: 2.3034 - val_loss: 14.3238 - val_mae: 2.9232\n",
      "Epoch 39/100\n",
      "354/354 [==============================] - 1s 2ms/step - loss: 9.6833 - mae: 2.2239 - val_loss: 12.5054 - val_mae: 2.5462\n",
      "Epoch 40/100\n",
      "354/354 [==============================] - 1s 2ms/step - loss: 9.2053 - mae: 2.1769 - val_loss: 19.2107 - val_mae: 3.4065\n",
      "Epoch 41/100\n",
      "354/354 [==============================] - 1s 2ms/step - loss: 8.2963 - mae: 2.0885 - val_loss: 17.3163 - val_mae: 3.2227\n",
      "Epoch 42/100\n",
      "354/354 [==============================] - 1s 2ms/step - loss: 9.1566 - mae: 2.2221 - val_loss: 13.5085 - val_mae: 2.7913\n",
      "Epoch 43/100\n",
      "354/354 [==============================] - 1s 2ms/step - loss: 7.9140 - mae: 2.0464 - val_loss: 21.2024 - val_mae: 3.3734\n",
      "Epoch 44/100\n",
      "354/354 [==============================] - 1s 2ms/step - loss: 8.3027 - mae: 2.1574 - val_loss: 12.5283 - val_mae: 2.6454\n",
      "Epoch 45/100\n",
      "354/354 [==============================] - 1s 2ms/step - loss: 8.5962 - mae: 2.1644 - val_loss: 14.4616 - val_mae: 2.9547\n",
      "Epoch 46/100\n",
      "354/354 [==============================] - 1s 2ms/step - loss: 8.0129 - mae: 2.1166 - val_loss: 17.7385 - val_mae: 3.3938\n",
      "Epoch 47/100\n",
      "354/354 [==============================] - 1s 2ms/step - loss: 8.4118 - mae: 2.0934 - val_loss: 24.2027 - val_mae: 4.0537\n",
      "Epoch 48/100\n",
      "354/354 [==============================] - 1s 2ms/step - loss: 7.5016 - mae: 2.0116 - val_loss: 12.4910 - val_mae: 2.6458\n",
      "Epoch 49/100\n",
      "354/354 [==============================] - 1s 2ms/step - loss: 9.0342 - mae: 2.1981 - val_loss: 19.7032 - val_mae: 3.6092\n",
      "Epoch 50/100\n",
      "354/354 [==============================] - 1s 2ms/step - loss: 7.1788 - mae: 2.0278 - val_loss: 12.9133 - val_mae: 2.6612\n",
      "Epoch 51/100\n",
      "354/354 [==============================] - 1s 2ms/step - loss: 8.6162 - mae: 2.1552 - val_loss: 12.5000 - val_mae: 2.5656\n",
      "Epoch 52/100\n",
      "354/354 [==============================] - 1s 2ms/step - loss: 7.3566 - mae: 2.0238 - val_loss: 12.2370 - val_mae: 2.6047\n",
      "Epoch 53/100\n",
      "354/354 [==============================] - 1s 2ms/step - loss: 7.6593 - mae: 1.9523 - val_loss: 13.0258 - val_mae: 2.6286\n",
      "Epoch 54/100\n",
      "354/354 [==============================] - 1s 2ms/step - loss: 8.2117 - mae: 2.0608 - val_loss: 17.6622 - val_mae: 3.3952\n",
      "Epoch 55/100\n",
      "354/354 [==============================] - 1s 2ms/step - loss: 6.8165 - mae: 1.8962 - val_loss: 15.0797 - val_mae: 3.0338\n",
      "Epoch 56/100\n",
      "354/354 [==============================] - 1s 2ms/step - loss: 6.7332 - mae: 1.9462 - val_loss: 12.4590 - val_mae: 2.5972\n",
      "Epoch 57/100\n",
      "354/354 [==============================] - 1s 2ms/step - loss: 7.1393 - mae: 1.9750 - val_loss: 17.7945 - val_mae: 3.3548\n",
      "Epoch 58/100\n",
      "354/354 [==============================] - 1s 2ms/step - loss: 7.4913 - mae: 1.9999 - val_loss: 12.7016 - val_mae: 2.7286\n",
      "Epoch 59/100\n",
      "354/354 [==============================] - 1s 2ms/step - loss: 6.5435 - mae: 1.8948 - val_loss: 16.3383 - val_mae: 3.1828\n",
      "Epoch 60/100\n",
      "354/354 [==============================] - 1s 2ms/step - loss: 6.9554 - mae: 1.9459 - val_loss: 14.4158 - val_mae: 2.9818\n",
      "Epoch 61/100\n"
     ]
    },
    {
     "name": "stdout",
     "output_type": "stream",
     "text": [
      "354/354 [==============================] - 1s 2ms/step - loss: 7.1221 - mae: 1.9327 - val_loss: 15.5044 - val_mae: 2.9324\n",
      "Epoch 62/100\n",
      "354/354 [==============================] - 1s 2ms/step - loss: 7.0301 - mae: 2.0085 - val_loss: 18.4655 - val_mae: 3.4440\n",
      "Epoch 63/100\n",
      "354/354 [==============================] - 1s 2ms/step - loss: 5.8161 - mae: 1.7590 - val_loss: 18.3326 - val_mae: 2.9066\n",
      "Epoch 64/100\n",
      "354/354 [==============================] - 1s 2ms/step - loss: 6.0654 - mae: 1.8484 - val_loss: 13.8515 - val_mae: 2.8737\n",
      "Epoch 65/100\n",
      "354/354 [==============================] - 1s 2ms/step - loss: 5.6225 - mae: 1.7253 - val_loss: 15.1509 - val_mae: 2.9334\n",
      "Epoch 66/100\n",
      "354/354 [==============================] - 1s 2ms/step - loss: 7.6299 - mae: 2.0330 - val_loss: 14.8496 - val_mae: 2.9237\n",
      "Epoch 67/100\n",
      "354/354 [==============================] - 1s 2ms/step - loss: 5.9623 - mae: 1.8344 - val_loss: 12.7247 - val_mae: 2.7151\n",
      "Epoch 68/100\n",
      "354/354 [==============================] - 1s 2ms/step - loss: 6.3317 - mae: 1.8970 - val_loss: 24.2989 - val_mae: 3.2639\n",
      "Epoch 69/100\n",
      "354/354 [==============================] - 1s 2ms/step - loss: 6.8983 - mae: 1.8764 - val_loss: 12.7062 - val_mae: 2.5786\n",
      "Epoch 70/100\n",
      "354/354 [==============================] - 1s 2ms/step - loss: 6.6180 - mae: 1.8807 - val_loss: 14.7064 - val_mae: 2.6813\n",
      "Epoch 71/100\n",
      "354/354 [==============================] - 1s 2ms/step - loss: 5.5528 - mae: 1.7698 - val_loss: 12.5260 - val_mae: 2.6530\n",
      "Epoch 72/100\n",
      "354/354 [==============================] - 1s 2ms/step - loss: 6.7343 - mae: 1.9806 - val_loss: 22.0526 - val_mae: 3.6336\n",
      "Epoch 73/100\n",
      "354/354 [==============================] - 1s 2ms/step - loss: 5.5297 - mae: 1.7884 - val_loss: 11.2194 - val_mae: 2.5384\n",
      "Epoch 74/100\n",
      "354/354 [==============================] - 1s 2ms/step - loss: 6.6847 - mae: 1.8550 - val_loss: 11.8911 - val_mae: 2.5698\n",
      "Epoch 75/100\n",
      "354/354 [==============================] - 1s 2ms/step - loss: 5.2452 - mae: 1.7148 - val_loss: 13.1312 - val_mae: 2.8227\n",
      "Epoch 76/100\n",
      "354/354 [==============================] - 1s 2ms/step - loss: 5.5979 - mae: 1.7435 - val_loss: 12.3954 - val_mae: 2.7042\n",
      "Epoch 77/100\n",
      "354/354 [==============================] - 1s 2ms/step - loss: 5.6999 - mae: 1.7524 - val_loss: 16.3167 - val_mae: 2.7630\n",
      "Epoch 78/100\n",
      "354/354 [==============================] - 1s 2ms/step - loss: 5.3445 - mae: 1.7709 - val_loss: 21.1050 - val_mae: 3.8644\n",
      "Epoch 79/100\n",
      "354/354 [==============================] - 1s 2ms/step - loss: 5.8223 - mae: 1.7856 - val_loss: 14.3716 - val_mae: 2.9138\n",
      "Epoch 80/100\n",
      "354/354 [==============================] - 1s 2ms/step - loss: 5.1591 - mae: 1.6305 - val_loss: 13.0447 - val_mae: 2.6822\n",
      "Epoch 81/100\n",
      "354/354 [==============================] - 1s 2ms/step - loss: 6.5685 - mae: 1.8574 - val_loss: 13.5304 - val_mae: 2.7677\n",
      "Epoch 82/100\n",
      "354/354 [==============================] - 1s 2ms/step - loss: 5.7238 - mae: 1.7551 - val_loss: 12.0623 - val_mae: 2.5584\n",
      "Epoch 83/100\n",
      "354/354 [==============================] - 1s 2ms/step - loss: 5.5619 - mae: 1.7695 - val_loss: 12.9341 - val_mae: 2.6116\n",
      "Epoch 84/100\n",
      "354/354 [==============================] - 1s 2ms/step - loss: 5.5304 - mae: 1.7230 - val_loss: 17.2585 - val_mae: 2.8373\n",
      "Epoch 85/100\n",
      "354/354 [==============================] - 1s 2ms/step - loss: 5.6754 - mae: 1.7544 - val_loss: 18.2786 - val_mae: 3.2111\n",
      "Epoch 86/100\n",
      "354/354 [==============================] - 1s 2ms/step - loss: 5.5990 - mae: 1.6833 - val_loss: 13.0763 - val_mae: 2.7279\n",
      "Epoch 87/100\n",
      "354/354 [==============================] - 1s 2ms/step - loss: 4.5370 - mae: 1.5804 - val_loss: 13.9316 - val_mae: 2.6495\n",
      "Epoch 88/100\n",
      "354/354 [==============================] - 1s 2ms/step - loss: 5.1746 - mae: 1.6966 - val_loss: 15.5698 - val_mae: 2.8427\n",
      "Epoch 89/100\n",
      "354/354 [==============================] - 1s 2ms/step - loss: 4.6491 - mae: 1.6584 - val_loss: 16.7641 - val_mae: 2.9442\n",
      "Epoch 90/100\n",
      "354/354 [==============================] - 1s 2ms/step - loss: 4.6035 - mae: 1.5605 - val_loss: 18.3899 - val_mae: 3.2942\n",
      "Epoch 91/100\n",
      "354/354 [==============================] - 1s 2ms/step - loss: 4.9068 - mae: 1.6270 - val_loss: 21.6635 - val_mae: 3.2274\n",
      "Epoch 92/100\n",
      "354/354 [==============================] - 1s 2ms/step - loss: 4.5379 - mae: 1.5629 - val_loss: 13.0186 - val_mae: 2.6948\n",
      "Epoch 93/100\n",
      "354/354 [==============================] - 1s 2ms/step - loss: 5.8004 - mae: 1.7932 - val_loss: 17.7727 - val_mae: 3.1422\n",
      "Epoch 94/100\n",
      "354/354 [==============================] - 1s 2ms/step - loss: 5.0216 - mae: 1.6980 - val_loss: 14.9368 - val_mae: 2.7376\n",
      "Epoch 95/100\n",
      "354/354 [==============================] - 1s 2ms/step - loss: 4.8920 - mae: 1.6297 - val_loss: 18.7946 - val_mae: 3.5171\n",
      "Epoch 96/100\n",
      "354/354 [==============================] - 1s 2ms/step - loss: 5.1517 - mae: 1.6812 - val_loss: 15.2247 - val_mae: 3.0404\n",
      "Epoch 97/100\n",
      "354/354 [==============================] - 1s 2ms/step - loss: 4.8457 - mae: 1.6460 - val_loss: 12.2357 - val_mae: 2.5764\n",
      "Epoch 98/100\n",
      "354/354 [==============================] - 1s 2ms/step - loss: 4.4569 - mae: 1.6323 - val_loss: 14.1507 - val_mae: 2.6032\n",
      "Epoch 99/100\n",
      "354/354 [==============================] - 1s 2ms/step - loss: 5.0678 - mae: 1.7175 - val_loss: 12.4218 - val_mae: 2.6963\n",
      "Epoch 100/100\n",
      "354/354 [==============================] - 1s 2ms/step - loss: 5.2981 - mae: 1.6215 - val_loss: 21.7943 - val_mae: 3.9345\n"
     ]
    }
   ],
   "source": [
    "history=model.fit(x=x_train_scaled,y=y_train,batch_size=1,verbose=1,epochs=100,validation_data=(x_test_scaled,y_test))"
   ]
  },
  {
   "cell_type": "code",
   "execution_count": 40,
   "id": "5d9058de",
   "metadata": {},
   "outputs": [
    {
     "name": "stdout",
     "output_type": "stream",
     "text": [
      "actual output: 24.0\n",
      "WARNING:tensorflow:5 out of the last 7 calls to <function Model.make_predict_function.<locals>.predict_function at 0x0000025A452F3F60> triggered tf.function retracing. Tracing is expensive and the excessive number of tracings could be due to (1) creating @tf.function repeatedly in a loop, (2) passing tensors with different shapes, (3) passing Python objects instead of tensors. For (1), please define your @tf.function outside of the loop. For (2), @tf.function has reduce_retracing=True option that can avoid unnecessary retracing. For (3), please refer to https://www.tensorflow.org/guide/function#controlling_retracing and https://www.tensorflow.org/api_docs/python/tf/function for  more details.\n",
      "1/1 [==============================] - 0s 111ms/step\n",
      "predicted output: [[23.06531]]\n"
     ]
    }
   ],
   "source": [
    "test_input = [[0.00154995, 0.        , 0.28962963, 0.        , 0.27777778,\n",
    "       0.56936665, 0.70442842, 0.15699879, 0.17391304, 0.3759542 ,\n",
    "       0.88297872, 0.99665297, 0.16851064]]\n",
    "print(\"actual output:\",24.0)\n",
    "print(\"predicted output:\",model.predict(test_input))"
   ]
  },
  {
   "cell_type": "code",
   "execution_count": null,
   "id": "9a8eed45",
   "metadata": {},
   "outputs": [],
   "source": []
  },
  {
   "cell_type": "code",
   "execution_count": 41,
   "id": "f94d08e6",
   "metadata": {},
   "outputs": [
    {
     "data": {
      "image/png": "[encoded data removed]",
      "text/plain": [
       "<Figure size 640x480 with 1 Axes>"
      ]
     },
     "metadata": {},
     "output_type": "display_data"
    }
   ],
   "source": [
    "import matplotlib.pyplot as plt\n",
    "\n",
    "# Plot training & validation loss values\n",
    "plt.plot(history.history['loss'])\n",
    "plt.plot(history.history['val_loss'])\n",
    "plt.title('Model Loss')\n",
    "plt.xlabel('Epoch')\n",
    "plt.ylabel('Loss')\n",
    "plt.legend(['Train', 'Validation'], loc='upper left')\n",
    "plt.show()\n"
   ]
  },
  {
   "cell_type": "code",
   "execution_count": null,
   "id": "9d27e44c",
   "metadata": {},
   "outputs": [],
   "source": []
  }
 ],
 "metadata": {
  "kernelspec": {
   "display_name": "Python 3 (ipykernel)",
   "language": "python",
   "name": "python3"
  },
  "language_info": {
   "codemirror_mode": {
    "name": "ipython",
    "version": 3
   },
   "file_extension": ".py",
   "mimetype": "text/x-python",
   "name": "python",
   "nbconvert_exporter": "python",
   "pygments_lexer": "ipython3",
   "version": "3.11.3"
  }
 },
 "nbformat": 4,
 "nbformat_minor": 5
}
