{
 "cells": [
  {
   "cell_type": "code",
   "execution_count": 1,
   "id": "ea84c53f",
   "metadata": {},
   "outputs": [
    {
     "name": "stdout",
     "output_type": "stream",
     "text": [
      "Epoch 1/15\n",
      "750/750 [==============================] - 29s 37ms/step - loss: 0.5761 - accuracy: 0.7902 - val_loss: 0.4021 - val_accuracy: 0.8522\n",
      "Epoch 2/15\n",
      "750/750 [==============================] - 28s 37ms/step - loss: 0.3599 - accuracy: 0.8697 - val_loss: 0.3416 - val_accuracy: 0.8764\n",
      "Epoch 3/15\n",
      "750/750 [==============================] - 28s 37ms/step - loss: 0.3084 - accuracy: 0.8870 - val_loss: 0.3318 - val_accuracy: 0.8805\n",
      "Epoch 4/15\n",
      "750/750 [==============================] - 27s 36ms/step - loss: 0.2753 - accuracy: 0.8980 - val_loss: 0.2915 - val_accuracy: 0.8949\n",
      "Epoch 5/15\n",
      "750/750 [==============================] - 27s 35ms/step - loss: 0.2528 - accuracy: 0.9065 - val_loss: 0.2862 - val_accuracy: 0.8967\n",
      "Epoch 6/15\n",
      "750/750 [==============================] - 26s 34ms/step - loss: 0.2322 - accuracy: 0.9132 - val_loss: 0.2833 - val_accuracy: 0.8971\n",
      "Epoch 7/15\n",
      "750/750 [==============================] - 25s 34ms/step - loss: 0.2142 - accuracy: 0.9205 - val_loss: 0.2605 - val_accuracy: 0.9036\n",
      "Epoch 8/15\n",
      "750/750 [==============================] - 30s 40ms/step - loss: 0.1994 - accuracy: 0.9253 - val_loss: 0.2706 - val_accuracy: 0.9027\n",
      "Epoch 9/15\n",
      "750/750 [==============================] - 28s 37ms/step - loss: 0.1834 - accuracy: 0.9325 - val_loss: 0.2584 - val_accuracy: 0.9087\n",
      "Epoch 10/15\n",
      "750/750 [==============================] - 27s 36ms/step - loss: 0.1700 - accuracy: 0.9371 - val_loss: 0.2763 - val_accuracy: 0.9097\n",
      "Epoch 11/15\n",
      "750/750 [==============================] - 28s 38ms/step - loss: 0.1572 - accuracy: 0.9417 - val_loss: 0.2746 - val_accuracy: 0.9080\n",
      "Epoch 12/15\n",
      "750/750 [==============================] - 28s 38ms/step - loss: 0.1445 - accuracy: 0.9454 - val_loss: 0.2872 - val_accuracy: 0.9066\n",
      "Epoch 13/15\n",
      "750/750 [==============================] - 28s 38ms/step - loss: 0.1334 - accuracy: 0.9504 - val_loss: 0.2760 - val_accuracy: 0.9107\n",
      "Epoch 14/15\n",
      "750/750 [==============================] - 28s 38ms/step - loss: 0.1240 - accuracy: 0.9548 - val_loss: 0.2911 - val_accuracy: 0.9053\n",
      "Epoch 15/15\n",
      "750/750 [==============================] - 27s 36ms/step - loss: 0.1143 - accuracy: 0.9576 - val_loss: 0.3098 - val_accuracy: 0.9046\n",
      "1/1 [==============================] - 0s 179ms/step\n"
     ]
    },
    {
     "data": {
      "image/png": "[encoded data removed]",
      "text/plain": [
       "<Figure size 1000x600 with 5 Axes>"
      ]
     },
     "metadata": {},
     "output_type": "display_data"
    }
   ],
   "source": [
    "import numpy as np\n",
    "import matplotlib.pyplot as plt\n",
    "from tensorflow.keras.datasets import fashion_mnist\n",
    "from tensorflow.keras.models import Sequential\n",
    "from tensorflow.keras.layers import Conv2D, MaxPooling2D, Flatten, Dense\n",
    "from tensorflow.keras.utils import to_categorical\n",
    "\n",
    "# Load the Fashion MNIST dataset\n",
    "(train_images, train_labels), (test_images, test_labels) = fashion_mnist.load_data()\n",
    "\n",
    "# Preprocess the data\n",
    "train_images = train_images.reshape((train_images.shape[0], 28, 28, 1)).astype('float32') / 255\n",
    "test_images = test_images.reshape((test_images.shape[0], 28, 28, 1)).astype('float32') / 255\n",
    "train_labels = to_categorical(train_labels)\n",
    "test_labels = to_categorical(test_labels)\n",
    "\n",
    "# Define the CNN model\n",
    "model = Sequential([\n",
    "    Conv2D(32, (3, 3), activation='relu', input_shape=(28, 28, 1)),\n",
    "    MaxPooling2D((2, 2)),\n",
    "    Conv2D(64, (3, 3), activation='relu'),\n",
    "    MaxPooling2D((2, 2)),\n",
    "    Conv2D(64, (3, 3), activation='relu'),\n",
    "    Flatten(),\n",
    "    Dense(64, activation='relu'),\n",
    "    Dense(10, activation='softmax')\n",
    "])\n",
    "\n",
    "# Compile the model\n",
    "model.compile(optimizer='adam',\n",
    "              loss='categorical_crossentropy',\n",
    "              metrics=['accuracy'])\n",
    "\n",
    "# Train the model\n",
    "model.fit(train_images, train_labels, epochs=15, batch_size=64, validation_split=0.2)\n",
    "\n",
    "# Select random images from the test set\n",
    "num_samples = 5\n",
    "random_indices = np.random.choice(len(test_images), num_samples, replace=False)\n",
    "sample_images = test_images[random_indices]\n",
    "sample_labels = test_labels[random_indices]\n",
    "\n",
    "# Make predictions on the sample images\n",
    "predictions = model.predict(sample_images)\n",
    "predicted_labels = np.argmax(predictions, axis=1)\n",
    "\n",
    "# Define class labels\n",
    "class_labels = ['T-shirt/top', 'Trouser', 'Pullover', 'Dress', 'Coat',\n",
    "                'Sandal', 'Shirt', 'Sneaker', 'Bag', 'Ankle boot']\n",
    "\n",
    "# Show images with their predicted and true labels\n",
    "plt.figure(figsize=(10, 6))\n",
    "for i in range(num_samples):\n",
    "    plt.subplot(1, num_samples, i + 1)\n",
    "    plt.imshow(sample_images[i].reshape(28, 28), cmap='gray')\n",
    "    plt.title(f\"True: {class_labels[np.argmax(sample_labels[i])]} \\nPredicted: {class_labels[predicted_labels[i]]}\")\n",
    "    plt.axis('off')\n",
    "plt.tight_layout()\n",
    "plt.show()\n"
   ]
  },
  {
   "cell_type": "code",
   "execution_count": 4,
   "id": "b23a5cfa",
   "metadata": {},
   "outputs": [
    {
     "name": "stderr",
     "output_type": "stream",
     "text": [
      "C:\\Users\\DELL\\AppData\\Roaming\\Python\\Python311\\site-packages\\keras\\src\\engine\\training.py:3000: UserWarning: You are saving your model as an HDF5 file via `model.save()`. This file format is considered legacy. We recommend using instead the native Keras format, e.g. `model.save('my_model.keras')`.\n",
      "  saving_api.save_model(\n"
     ]
    }
   ],
   "source": [
    "# Save the model\n",
    "model.save('my_cnn_model.h5')\n"
   ]
  },
  {
   "cell_type": "code",
   "execution_count": 1,
   "id": "8094183a",
   "metadata": {},
   "outputs": [],
   "source": [
    "from tensorflow.keras.models import load_model\n",
    "\n",
    "# Load the model\n",
    "loaded_model = load_model('my_cnn_model.h5')\n"
   ]
  },
  {
   "cell_type": "code",
   "execution_count": null,
   "id": "4a2b8d93",
   "metadata": {},
   "outputs": [],
   "source": []
  }
 ],
 "metadata": {
  "kernelspec": {
   "display_name": "Python 3 (ipykernel)",
   "language": "python",
   "name": "python3"
  },
  "language_info": {
   "codemirror_mode": {
    "name": "ipython",
    "version": 3
   },
   "file_extension": ".py",
   "mimetype": "text/x-python",
   "name": "python",
   "nbconvert_exporter": "python",
   "pygments_lexer": "ipython3",
   "version": "3.11.3"
  }
 },
 "nbformat": 4,
 "nbformat_minor": 5
}
